{
 "cells": [
  {
   "cell_type": "code",
   "execution_count": 317,
   "metadata": {},
   "outputs": [],
   "source": [
    "#metoda knn\n",
    "import numpy as np \n",
    "import matplotlib.pyplot as plt\n",
    "import pandas as pd \n",
    "from datetime import datetime"
   ]
  },
  {
   "cell_type": "code",
   "execution_count": 318,
   "metadata": {},
   "outputs": [],
   "source": [
    "# Wczytanie danych\n",
    "data = pd.read_csv('dataset-knn.csv', sep=\";\")"
   ]
  },
  {
   "cell_type": "code",
   "execution_count": 319,
   "metadata": {},
   "outputs": [
    {
     "data": {
      "text/html": [
       "<div>\n",
       "<style scoped>\n",
       "    .dataframe tbody tr th:only-of-type {\n",
       "        vertical-align: middle;\n",
       "    }\n",
       "\n",
       "    .dataframe tbody tr th {\n",
       "        vertical-align: top;\n",
       "    }\n",
       "\n",
       "    .dataframe thead th {\n",
       "        text-align: right;\n",
       "    }\n",
       "</style>\n",
       "<table border=\"1\" class=\"dataframe\">\n",
       "  <thead>\n",
       "    <tr style=\"text-align: right;\">\n",
       "      <th></th>\n",
       "      <th>Percentage of bad quality food eaten</th>\n",
       "      <th>Physical training (hour/month)</th>\n",
       "      <th>Condition</th>\n",
       "    </tr>\n",
       "  </thead>\n",
       "  <tbody>\n",
       "    <tr>\n",
       "      <th>0</th>\n",
       "      <td>0.9</td>\n",
       "      <td>0</td>\n",
       "      <td>B</td>\n",
       "    </tr>\n",
       "    <tr>\n",
       "      <th>1</th>\n",
       "      <td>0.5</td>\n",
       "      <td>7</td>\n",
       "      <td>A</td>\n",
       "    </tr>\n",
       "    <tr>\n",
       "      <th>2</th>\n",
       "      <td>0.2</td>\n",
       "      <td>1</td>\n",
       "      <td>A</td>\n",
       "    </tr>\n",
       "    <tr>\n",
       "      <th>3</th>\n",
       "      <td>0.3</td>\n",
       "      <td>5</td>\n",
       "      <td>A</td>\n",
       "    </tr>\n",
       "    <tr>\n",
       "      <th>4</th>\n",
       "      <td>0.1</td>\n",
       "      <td>8</td>\n",
       "      <td>G</td>\n",
       "    </tr>\n",
       "    <tr>\n",
       "      <th>5</th>\n",
       "      <td>0.1</td>\n",
       "      <td>10</td>\n",
       "      <td>G</td>\n",
       "    </tr>\n",
       "    <tr>\n",
       "      <th>6</th>\n",
       "      <td>0.2</td>\n",
       "      <td>3</td>\n",
       "      <td>A</td>\n",
       "    </tr>\n",
       "    <tr>\n",
       "      <th>7</th>\n",
       "      <td>0.5</td>\n",
       "      <td>4</td>\n",
       "      <td>A</td>\n",
       "    </tr>\n",
       "    <tr>\n",
       "      <th>8</th>\n",
       "      <td>0.9</td>\n",
       "      <td>1</td>\n",
       "      <td>B</td>\n",
       "    </tr>\n",
       "    <tr>\n",
       "      <th>9</th>\n",
       "      <td>0.0</td>\n",
       "      <td>0</td>\n",
       "      <td>A</td>\n",
       "    </tr>\n",
       "  </tbody>\n",
       "</table>\n",
       "</div>"
      ],
      "text/plain": [
       "   Percentage of bad quality food eaten  Physical training (hour/month)  \\\n",
       "0                                   0.9                               0   \n",
       "1                                   0.5                               7   \n",
       "2                                   0.2                               1   \n",
       "3                                   0.3                               5   \n",
       "4                                   0.1                               8   \n",
       "5                                   0.1                              10   \n",
       "6                                   0.2                               3   \n",
       "7                                   0.5                               4   \n",
       "8                                   0.9                               1   \n",
       "9                                   0.0                               0   \n",
       "\n",
       "  Condition  \n",
       "0         B  \n",
       "1         A  \n",
       "2         A  \n",
       "3         A  \n",
       "4         G  \n",
       "5         G  \n",
       "6         A  \n",
       "7         A  \n",
       "8         B  \n",
       "9         A  "
      ]
     },
     "execution_count": 319,
     "metadata": {},
     "output_type": "execute_result"
    }
   ],
   "source": [
    "data.head(n=10)"
   ]
  },
  {
   "cell_type": "code",
   "execution_count": 320,
   "metadata": {},
   "outputs": [],
   "source": [
    "data.rename(columns={'Percentage of bad quality food eaten': 'Percentage_of_bad_quality_food_eaten'}, inplace=True)\n",
    "data.rename(columns={'Physical training (hour/month)': 'Physical_training_hourMonth'}, inplace=True)"
   ]
  },
  {
   "cell_type": "code",
   "execution_count": 321,
   "metadata": {},
   "outputs": [
    {
     "data": {
      "text/plain": [
       "Percentage_of_bad_quality_food_eaten    float64\n",
       "Physical_training_hourMonth               int64\n",
       "Condition                                object\n",
       "dtype: object"
      ]
     },
     "execution_count": 321,
     "metadata": {},
     "output_type": "execute_result"
    }
   ],
   "source": [
    "data.head(n=10)\n",
    "data.dtypes"
   ]
  },
  {
   "cell_type": "code",
   "execution_count": 322,
   "metadata": {},
   "outputs": [
    {
     "data": {
      "text/html": [
       "<div>\n",
       "<style scoped>\n",
       "    .dataframe tbody tr th:only-of-type {\n",
       "        vertical-align: middle;\n",
       "    }\n",
       "\n",
       "    .dataframe tbody tr th {\n",
       "        vertical-align: top;\n",
       "    }\n",
       "\n",
       "    .dataframe thead th {\n",
       "        text-align: right;\n",
       "    }\n",
       "</style>\n",
       "<table border=\"1\" class=\"dataframe\">\n",
       "  <thead>\n",
       "    <tr style=\"text-align: right;\">\n",
       "      <th></th>\n",
       "      <th>Percentage_of_bad_quality_food_eaten</th>\n",
       "      <th>Physical_training_hourMonth</th>\n",
       "      <th>Condition</th>\n",
       "    </tr>\n",
       "  </thead>\n",
       "  <tbody>\n",
       "    <tr>\n",
       "      <th>0</th>\n",
       "      <td>90.0</td>\n",
       "      <td>0</td>\n",
       "      <td>B</td>\n",
       "    </tr>\n",
       "    <tr>\n",
       "      <th>1</th>\n",
       "      <td>50.0</td>\n",
       "      <td>7</td>\n",
       "      <td>A</td>\n",
       "    </tr>\n",
       "    <tr>\n",
       "      <th>2</th>\n",
       "      <td>20.0</td>\n",
       "      <td>1</td>\n",
       "      <td>A</td>\n",
       "    </tr>\n",
       "    <tr>\n",
       "      <th>3</th>\n",
       "      <td>30.0</td>\n",
       "      <td>5</td>\n",
       "      <td>A</td>\n",
       "    </tr>\n",
       "    <tr>\n",
       "      <th>4</th>\n",
       "      <td>10.0</td>\n",
       "      <td>8</td>\n",
       "      <td>G</td>\n",
       "    </tr>\n",
       "    <tr>\n",
       "      <th>5</th>\n",
       "      <td>10.0</td>\n",
       "      <td>10</td>\n",
       "      <td>G</td>\n",
       "    </tr>\n",
       "    <tr>\n",
       "      <th>6</th>\n",
       "      <td>20.0</td>\n",
       "      <td>3</td>\n",
       "      <td>A</td>\n",
       "    </tr>\n",
       "    <tr>\n",
       "      <th>7</th>\n",
       "      <td>50.0</td>\n",
       "      <td>4</td>\n",
       "      <td>A</td>\n",
       "    </tr>\n",
       "    <tr>\n",
       "      <th>8</th>\n",
       "      <td>90.0</td>\n",
       "      <td>1</td>\n",
       "      <td>B</td>\n",
       "    </tr>\n",
       "    <tr>\n",
       "      <th>9</th>\n",
       "      <td>0.0</td>\n",
       "      <td>0</td>\n",
       "      <td>A</td>\n",
       "    </tr>\n",
       "  </tbody>\n",
       "</table>\n",
       "</div>"
      ],
      "text/plain": [
       "   Percentage_of_bad_quality_food_eaten  Physical_training_hourMonth Condition\n",
       "0                                  90.0                            0         B\n",
       "1                                  50.0                            7         A\n",
       "2                                  20.0                            1         A\n",
       "3                                  30.0                            5         A\n",
       "4                                  10.0                            8         G\n",
       "5                                  10.0                           10         G\n",
       "6                                  20.0                            3         A\n",
       "7                                  50.0                            4         A\n",
       "8                                  90.0                            1         B\n",
       "9                                   0.0                            0         A"
      ]
     },
     "execution_count": 322,
     "metadata": {},
     "output_type": "execute_result"
    }
   ],
   "source": [
    "data['Percentage_of_bad_quality_food_eaten'] = data.Percentage_of_bad_quality_food_eaten*100\n",
    "data.head(n=10)"
   ]
  },
  {
   "cell_type": "code",
   "execution_count": 323,
   "metadata": {},
   "outputs": [],
   "source": [
    "from sklearn.neighbors import KNeighborsClassifier\n",
    "from sklearn import preprocessing\n",
    "\n",
    "le = preprocessing.LabelEncoder()"
   ]
  },
  {
   "cell_type": "code",
   "execution_count": 324,
   "metadata": {},
   "outputs": [],
   "source": [
    "#Stworzenie funkcji\n",
    "error = []\n",
    "\n",
    "# Obliczenie błędu dokładności modelu dla poszczególnych wartości K\n",
    "for i in range(1, 36):  \n",
    "    model = KNeighborsClassifier(n_neighbors=i)\n",
    "    model.fit(X_train, y_train)\n",
    "    pred_i = model.predict(X_test)\n",
    "    error.append(np.mean(pred_i != y_test))"
   ]
  },
  {
   "cell_type": "code",
   "execution_count": 339,
   "metadata": {},
   "outputs": [
    {
     "data": {
      "text/plain": [
       "Text(0,0.5,'Średni błąd')"
      ]
     },
     "execution_count": 339,
     "metadata": {},
     "output_type": "execute_result"
    },
    {
     "data": {
      "image/png": "[encoded data removed]",
      "text/plain": [
       "<Figure size 864x432 with 1 Axes>"
      ]
     },
     "metadata": {
      "needs_background": "light"
     },
     "output_type": "display_data"
    }
   ],
   "source": [
    "plt.figure(figsize=(12, 6))  \n",
    "plt.plot(range(1, 36), error, color='blue', linestyle='dashed', marker='o',  \n",
    "         markerfacecolor='green', markersize=10)\n",
    "plt.title('Wykres średniego błędu w zależności od ustalonej wartości K')  \n",
    "plt.xlabel('Wartość K')  \n",
    "plt.ylabel('Średni błąd') "
   ]
  },
  {
   "cell_type": "code",
   "execution_count": 355,
   "metadata": {},
   "outputs": [],
   "source": [
    "#Skonstruowanie modelu. Ustalenie wartości K=3. Ponieważ dla takiej wartości średni błąd wynosi najmniej.\n",
    "model = KNeighborsClassifier(n_neighbors=3)"
   ]
  },
  {
   "cell_type": "code",
   "execution_count": 356,
   "metadata": {},
   "outputs": [
    {
     "data": {
      "text/plain": [
       "array([1, 0, 0, 0, 2, 2, 0, 0, 1, 0, 0, 1, 1, 0, 0, 1, 0, 0, 0, 0, 0, 0,\n",
       "       0, 0, 1, 1, 0, 1, 1, 0, 0, 1, 0, 0, 2, 0, 2, 2, 0, 0, 0, 0, 2, 0,\n",
       "       0, 0, 2, 0, 0, 0])"
      ]
     },
     "execution_count": 356,
     "metadata": {},
     "output_type": "execute_result"
    }
   ],
   "source": [
    "#Transformacja na wartości liczbowe dla zmiennej condition \n",
    "label=le.fit_transform(data.Condition)\n",
    "label\n",
    "#Liczba 1 - oznacza kondycję B(bad) reprezentowana próbka odznacza się złą kondycją\n",
    "#Liczba 0 - oznacza kondycję A(average) reprezentowana probka odznacza się średnią kondycją\n",
    "# Liczba 2 - oznacza kondycję G(good) reprezentowana próbka odznacza się dobrą kondycją"
   ]
  },
  {
   "cell_type": "code",
   "execution_count": 357,
   "metadata": {},
   "outputs": [],
   "source": [
    "features=list(zip(data.Percentage_of_bad_quality_food_eaten, data.Physical_training_hourMonth))"
   ]
  },
  {
   "cell_type": "code",
   "execution_count": 358,
   "metadata": {},
   "outputs": [
    {
     "data": {
      "text/plain": [
       "KNeighborsClassifier(algorithm='auto', leaf_size=30, metric='minkowski',\n",
       "           metric_params=None, n_jobs=1, n_neighbors=3, p=2,\n",
       "           weights='uniform')"
      ]
     },
     "execution_count": 358,
     "metadata": {},
     "output_type": "execute_result"
    }
   ],
   "source": [
    "# Trening modelu przy użyciu zmiennej objaśnianej i zmiennych objaśniających\n",
    "model.fit(features,label)"
   ]
  },
  {
   "cell_type": "code",
   "execution_count": 359,
   "metadata": {},
   "outputs": [
    {
     "name": "stdout",
     "output_type": "stream",
     "text": [
      "[1]\n"
     ]
    }
   ],
   "source": [
    "#Predykcja jaką kondycję będzie reprezentować osoba, której styl odżywiania to w 90% niezdrowe jedzenie oraz\n",
    "# brak wysiłku fizycznego w ciągu miesiąca.\n",
    "predicted= model.predict([[90,0]])\n",
    "print(predicted)"
   ]
  },
  {
   "cell_type": "code",
   "execution_count": 360,
   "metadata": {},
   "outputs": [],
   "source": [
    "#Dla próbki o parametrach 90 (90% posiłków spożywanych w ciągu miesiąca jest niezdrowych)\n",
    "# i 0 (0 godzin treningu w ciągu miesiąca) model przewidział złą kondycję -> [1]. Predykcja jest zgodna z prawdziwymi danymi"
   ]
  },
  {
   "cell_type": "code",
   "execution_count": 361,
   "metadata": {},
   "outputs": [
    {
     "name": "stdout",
     "output_type": "stream",
     "text": [
      "[2]\n"
     ]
    }
   ],
   "source": [
    "#Predykcja jaką kondycję będzie reprezentować osoba, której styl odżywiania to w 10% niezdrowe jedzenie oraz\n",
    "# 10 godzin wysiłku fizycznego w ciągu miesiąca.\n",
    "predicted= model.predict([[10,10]])\n",
    "print(predicted)"
   ]
  },
  {
   "cell_type": "code",
   "execution_count": 362,
   "metadata": {},
   "outputs": [],
   "source": [
    "#Dla próbki o parametrach 10 (10% posiłków spożywanych w ciągu miesiąca jest niezdrowych)\n",
    "# i 10 (godzin treningu w ciągu miesiąca) model przewidział złą kondycję -> [2]. Predykcja jest zgodna z prawdziwymi danymi"
   ]
  },
  {
   "cell_type": "code",
   "execution_count": 363,
   "metadata": {},
   "outputs": [
    {
     "name": "stdout",
     "output_type": "stream",
     "text": [
      "[0]\n"
     ]
    }
   ],
   "source": [
    "#Predykcja jaką kondycję będzie reprezentować osoba, której styl odżywiania to w 100% zdrowe jedzenie oraz\n",
    "# brak wysiłku fizycznego w ciągu miesiąca.\n",
    "predicted= model.predict([[0,0]])\n",
    "print(predicted)"
   ]
  },
  {
   "cell_type": "code",
   "execution_count": 364,
   "metadata": {},
   "outputs": [],
   "source": [
    "#Dla próbki o parametrach 0 (0% posiłków spożywanych w ciągu miesiąca jest niezdrowych)\n",
    "# i 0 (0 godzin treningu w ciągu miesiąca) model przewidział średnią kondycję -> [0]. Predykcja jest zgodna z prawdziwymi danymi"
   ]
  },
  {
   "cell_type": "code",
   "execution_count": 365,
   "metadata": {},
   "outputs": [],
   "source": [
    "# Zaimportowanie biblioteki umożliwiającej podział danych treningowych i testowych\n",
    "\n",
    "from sklearn.model_selection import train_test_split\n",
    "\n",
    "# Podział na dane treningowe i testowe\n",
    "X_train, X_test, y_train, y_test = train_test_split(features, label, test_size=0.3) \n",
    "# Ustawienie standardowego stosunku procentowego 70:30. 70% danych ustala się jako treningowe, resztę jako testowe."
   ]
  },
  {
   "cell_type": "code",
   "execution_count": 366,
   "metadata": {},
   "outputs": [],
   "source": [
    "#Trening modelu na podstawie wczesniej podzielonych danych\n",
    "model2 = KNeighborsClassifier(n_neighbors=3)\n",
    "model2.fit(X_train, y_train)\n",
    "y_pred = model2.predict(X_test)"
   ]
  },
  {
   "cell_type": "code",
   "execution_count": 367,
   "metadata": {},
   "outputs": [
    {
     "name": "stdout",
     "output_type": "stream",
     "text": [
      "Dokładność modelu wynosi: 0.8\n"
     ]
    }
   ],
   "source": [
    "#Zaimportowanie biblioteki 'metrics' umożliwiającej sprawdzenie dopasowania modelu\n",
    "from sklearn import metrics\n",
    "# Sprawdzenie jak dokładny jest model predykcyjny\n",
    "print(\"Dokładność modelu wynosi:\",metrics.accuracy_score(y_test, y_pred))"
   ]
  },
  {
   "cell_type": "markdown",
   "metadata": {},
   "source": [
    "Model przy ustaleniu parametru K=3 jest dopasowany do danych w 80%."
   ]
  }
 ],
 "metadata": {
  "kernelspec": {
   "display_name": "Python 3",
   "language": "python",
   "name": "python3"
  },
  "language_info": {
   "codemirror_mode": {
    "name": "ipython",
    "version": 3
   },
   "file_extension": ".py",
   "mimetype": "text/x-python",
   "name": "python",
   "nbconvert_exporter": "python",
   "pygments_lexer": "ipython3",
   "version": "3.6.7"
  }
 },
 "nbformat": 4,
 "nbformat_minor": 2
}
