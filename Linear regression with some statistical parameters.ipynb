{
 "cells": [
  {
   "cell_type": "code",
   "execution_count": 164,
   "metadata": {},
   "outputs": [],
   "source": [
    "# This analysis will show linear regression. I will try to find out what pairs of variables has the highest dependence to each other.\n",
    "# In further investigation I will try to check metrics and parameters to assess whether the model is fitted and variables are statistically essential.\n",
    "import pandas as pd\n",
    "%matplotlib inline\n",
    "import matplotlib.pyplot as plt\n",
    "import seaborn as sns; sns.set()\n",
    "import numpy as np\n",
    "import statsmodels.api as sm"
   ]
  },
  {
   "cell_type": "code",
   "execution_count": 173,
   "metadata": {},
   "outputs": [
    {
     "data": {
      "text/html": [
       "<div>\n",
       "<style>\n",
       "    .dataframe thead tr:only-child th {\n",
       "        text-align: right;\n",
       "    }\n",
       "\n",
       "    .dataframe thead th {\n",
       "        text-align: left;\n",
       "    }\n",
       "\n",
       "    .dataframe tbody tr th {\n",
       "        vertical-align: top;\n",
       "    }\n",
       "</style>\n",
       "<table border=\"1\" class=\"dataframe\">\n",
       "  <thead>\n",
       "    <tr style=\"text-align: right;\">\n",
       "      <th></th>\n",
       "      <th>Rok</th>\n",
       "      <th>StopaBezrobocia</th>\n",
       "      <th>CzasPoszukiwaniaPracy</th>\n",
       "      <th>LiczbaBezrobotnych</th>\n",
       "      <th>LiczbaNowychMiejscPracy</th>\n",
       "    </tr>\n",
       "  </thead>\n",
       "  <tbody>\n",
       "    <tr>\n",
       "      <th>0</th>\n",
       "      <td>2008</td>\n",
       "      <td>9,6</td>\n",
       "      <td>17,6</td>\n",
       "      <td>501339</td>\n",
       "      <td>490,6</td>\n",
       "    </tr>\n",
       "    <tr>\n",
       "      <th>1</th>\n",
       "      <td>2009</td>\n",
       "      <td>7,1</td>\n",
       "      <td>12,2</td>\n",
       "      <td>488898</td>\n",
       "      <td>521,6</td>\n",
       "    </tr>\n",
       "    <tr>\n",
       "      <th>2</th>\n",
       "      <td>2010</td>\n",
       "      <td>8,2</td>\n",
       "      <td>11</td>\n",
       "      <td>568687</td>\n",
       "      <td>609,3</td>\n",
       "    </tr>\n",
       "    <tr>\n",
       "      <th>3</th>\n",
       "      <td>2011</td>\n",
       "      <td>9,6</td>\n",
       "      <td>9,4</td>\n",
       "      <td>685237</td>\n",
       "      <td>580,3</td>\n",
       "    </tr>\n",
       "    <tr>\n",
       "      <th>4</th>\n",
       "      <td>2012</td>\n",
       "      <td>9,6</td>\n",
       "      <td>10,6</td>\n",
       "      <td>757239</td>\n",
       "      <td>465</td>\n",
       "    </tr>\n",
       "    <tr>\n",
       "      <th>5</th>\n",
       "      <td>2013</td>\n",
       "      <td>10,1</td>\n",
       "      <td>11,3</td>\n",
       "      <td>827080</td>\n",
       "      <td>502,4</td>\n",
       "    </tr>\n",
       "    <tr>\n",
       "      <th>6</th>\n",
       "      <td>2014</td>\n",
       "      <td>10,3</td>\n",
       "      <td>11,8</td>\n",
       "      <td>760056</td>\n",
       "      <td>614,8</td>\n",
       "    </tr>\n",
       "    <tr>\n",
       "      <th>7</th>\n",
       "      <td>2015</td>\n",
       "      <td>9</td>\n",
       "      <td>12,8</td>\n",
       "      <td>620855</td>\n",
       "      <td>595,9</td>\n",
       "    </tr>\n",
       "    <tr>\n",
       "      <th>8</th>\n",
       "      <td>2016</td>\n",
       "      <td>7,5</td>\n",
       "      <td>12,3</td>\n",
       "      <td>542843</td>\n",
       "      <td>618,8</td>\n",
       "    </tr>\n",
       "  </tbody>\n",
       "</table>\n",
       "</div>"
      ],
      "text/plain": [
       "    Rok StopaBezrobocia CzasPoszukiwaniaPracy  LiczbaBezrobotnych  \\\n",
       "0  2008             9,6                  17,6              501339   \n",
       "1  2009             7,1                  12,2              488898   \n",
       "2  2010             8,2                    11              568687   \n",
       "3  2011             9,6                   9,4              685237   \n",
       "4  2012             9,6                  10,6              757239   \n",
       "5  2013            10,1                  11,3              827080   \n",
       "6  2014            10,3                  11,8              760056   \n",
       "7  2015               9                  12,8              620855   \n",
       "8  2016             7,5                  12,3              542843   \n",
       "\n",
       "  LiczbaNowychMiejscPracy  \n",
       "0                   490,6  \n",
       "1                   521,6  \n",
       "2                   609,3  \n",
       "3                   580,3  \n",
       "4                     465  \n",
       "5                   502,4  \n",
       "6                   614,8  \n",
       "7                   595,9  \n",
       "8                   618,8  "
      ]
     },
     "execution_count": 173,
     "metadata": {},
     "output_type": "execute_result"
    }
   ],
   "source": [
    "# Read CSV file \n",
    "data2 = pd.read_csv('Analiza1.csv', sep=\";\")\n",
    "data.head(n=10)"
   ]
  },
  {
   "cell_type": "code",
   "execution_count": 170,
   "metadata": {},
   "outputs": [
    {
     "name": "stderr",
     "output_type": "stream",
     "text": [
      "/srv/conda/lib/python3.6/site-packages/matplotlib/font_manager.py:1320: UserWarning: findfont: Font family ['sans-serif'] not found. Falling back to DejaVu Sans\n",
      "  (prop.get_family(), self.defaultFamily[fontext]))\n"
     ]
    },
    {
     "data": {
      "image/png": "[encoded data removed]",
      "text/plain": [
       "<matplotlib.figure.Figure at 0x7f28cb230908>"
      ]
     },
     "metadata": {},
     "output_type": "display_data"
    }
   ],
   "source": [
    "#Print the graph\n",
    "x = data2.StopaBezrobocia\n",
    "y = data2.CzasPoszukiwaniaPracy\n",
    "\n",
    "#Plot the dataset\n",
    "plt.scatter(x,y)\n",
    "plt.xlabel('StopaBezrobocia')\n",
    "plt.ylabel('CzasPoszukiwaniaPracy')\n",
    "plt.title('Dataset')\n",
    "plt.show()"
   ]
  },
  {
   "cell_type": "code",
   "execution_count": 192,
   "metadata": {},
   "outputs": [
    {
     "name": "stderr",
     "output_type": "stream",
     "text": [
      "/srv/conda/lib/python3.6/site-packages/matplotlib/font_manager.py:1320: UserWarning: findfont: Font family ['sans-serif'] not found. Falling back to DejaVu Sans\n",
      "  (prop.get_family(), self.defaultFamily[fontext]))\n"
     ]
    },
    {
     "data": {
      "image/png": "[encoded data removed]",
      "text/plain": [
       "<matplotlib.figure.Figure at 0x7f28d15ad390>"
      ]
     },
     "metadata": {},
     "output_type": "display_data"
    }
   ],
   "source": [
    "# Use LinearRegression estimator to print line, which will be the best fitted to data\n",
    "from sklearn.linear_model import LinearRegression\n",
    "model = LinearRegression(fit_intercept=True)\n",
    "\n",
    "model.fit(x[:, newaxis], y)\n",
    "\n",
    "xfit = np.linspace(11, 7, 10)\n",
    "yfit = model.predict(xfit[:, newaxis])\n",
    "\n",
    "plt.scatter(x, y)\n",
    "plt.plot(xfit, yfit);\n"
   ]
  },
  {
   "cell_type": "code",
   "execution_count": 187,
   "metadata": {},
   "outputs": [],
   "source": [
    "import scipy\n",
    "slope, intercept, r_value, p_value, std_err = scipy.stats.linregress(x, y)"
   ]
  },
  {
   "cell_type": "code",
   "execution_count": 193,
   "metadata": {},
   "outputs": [
    {
     "data": {
      "text/plain": [
       "LinregressResult(slope=0.17346938775510212, intercept=10.530612244897958, rvalue=0.081867126156250844, pvalue=0.83415034146068423, stderr=0.79818582600788446)"
      ]
     },
     "execution_count": 193,
     "metadata": {},
     "output_type": "execute_result"
    }
   ],
   "source": [
    "# Showing the parameters values \n",
    "scipy.stats.linregress(x, y)"
   ]
  },
  {
   "cell_type": "code",
   "execution_count": null,
   "metadata": {},
   "outputs": [],
   "source": [
    "# Based on statistical values we could present how will linear model look like:\n",
    "# Y = 0.17346938775510212 * X + 10.530612244897958\n",
    "\n",
    "# Slope value gives an information how big impact it has to variable Y\n",
    "# Boost the \"X\" variable by one entity increases \"Y\" variable by 0.17346938775510212*Y\n",
    "\n",
    "# Intercept value gives us an information what will be result if variable \"X\" will have 0 value.\n",
    "\n",
    "# Variables have low correlation in direct proportion, it amounts 8%. It means that function is really in low level fitted to data."
   ]
  }
 ],
 "metadata": {
  "kernelspec": {
   "display_name": "Python 3",
   "language": "python",
   "name": "python3"
  },
  "language_info": {
   "codemirror_mode": {
    "name": "ipython",
    "version": 3
   },
   "file_extension": ".py",
   "mimetype": "text/x-python",
   "name": "python",
   "nbconvert_exporter": "python",
   "pygments_lexer": "ipython3",
   "version": "3.6.5"
  }
 },
 "nbformat": 4,
 "nbformat_minor": 2
}
