{
 "cells": [
  {
   "cell_type": "code",
   "execution_count": 2,
   "metadata": {},
   "outputs": [
    {
     "name": "stderr",
     "output_type": "stream",
     "text": [
      "/srv/conda/lib/python3.6/site-packages/statsmodels/compat/pandas.py:56: FutureWarning: The pandas.core.datetools module is deprecated and will be removed in a future version. Please use the pandas.tseries module instead.\n",
      "  from pandas.core import datetools\n"
     ]
    }
   ],
   "source": [
    "# This analysis will show linear regression. I will try to find out what pairs of variables has the highest dependence to each other.\n",
    "# In further investigation I will try to check metrics and parameters to assess whether the model is fitted and variables are statistically essential.\n",
    "import pandas as pd\n",
    "%matplotlib inline\n",
    "import matplotlib.pyplot as plt\n",
    "import seaborn as sns; sns.set()\n",
    "import numpy as np\n",
    "import statsmodels.api as sm"
   ]
  },
  {
   "cell_type": "code",
   "execution_count": 3,
   "metadata": {},
   "outputs": [
    {
     "data": {
      "text/html": [
       "<div>\n",
       "<style>\n",
       "    .dataframe thead tr:only-child th {\n",
       "        text-align: right;\n",
       "    }\n",
       "\n",
       "    .dataframe thead th {\n",
       "        text-align: left;\n",
       "    }\n",
       "\n",
       "    .dataframe tbody tr th {\n",
       "        vertical-align: top;\n",
       "    }\n",
       "</style>\n",
       "<table border=\"1\" class=\"dataframe\">\n",
       "  <thead>\n",
       "    <tr style=\"text-align: right;\">\n",
       "      <th></th>\n",
       "      <th>Rok</th>\n",
       "      <th>StopaBezrobocia</th>\n",
       "      <th>CzasPoszukiwaniaPracy</th>\n",
       "      <th>LiczbaBezrobotnych</th>\n",
       "      <th>LiczbaNowychMiejscPracy</th>\n",
       "    </tr>\n",
       "  </thead>\n",
       "  <tbody>\n",
       "    <tr>\n",
       "      <th>0</th>\n",
       "      <td>2008</td>\n",
       "      <td>10</td>\n",
       "      <td>18</td>\n",
       "      <td>501339</td>\n",
       "      <td>491</td>\n",
       "    </tr>\n",
       "    <tr>\n",
       "      <th>1</th>\n",
       "      <td>2009</td>\n",
       "      <td>7</td>\n",
       "      <td>12</td>\n",
       "      <td>488898</td>\n",
       "      <td>522</td>\n",
       "    </tr>\n",
       "    <tr>\n",
       "      <th>2</th>\n",
       "      <td>2010</td>\n",
       "      <td>8</td>\n",
       "      <td>11</td>\n",
       "      <td>568687</td>\n",
       "      <td>609</td>\n",
       "    </tr>\n",
       "    <tr>\n",
       "      <th>3</th>\n",
       "      <td>2011</td>\n",
       "      <td>10</td>\n",
       "      <td>9</td>\n",
       "      <td>685237</td>\n",
       "      <td>580</td>\n",
       "    </tr>\n",
       "    <tr>\n",
       "      <th>4</th>\n",
       "      <td>2012</td>\n",
       "      <td>10</td>\n",
       "      <td>11</td>\n",
       "      <td>757239</td>\n",
       "      <td>465</td>\n",
       "    </tr>\n",
       "    <tr>\n",
       "      <th>5</th>\n",
       "      <td>2013</td>\n",
       "      <td>10</td>\n",
       "      <td>11</td>\n",
       "      <td>827080</td>\n",
       "      <td>502</td>\n",
       "    </tr>\n",
       "    <tr>\n",
       "      <th>6</th>\n",
       "      <td>2014</td>\n",
       "      <td>10</td>\n",
       "      <td>12</td>\n",
       "      <td>760056</td>\n",
       "      <td>615</td>\n",
       "    </tr>\n",
       "    <tr>\n",
       "      <th>7</th>\n",
       "      <td>2015</td>\n",
       "      <td>9</td>\n",
       "      <td>13</td>\n",
       "      <td>620855</td>\n",
       "      <td>596</td>\n",
       "    </tr>\n",
       "    <tr>\n",
       "      <th>8</th>\n",
       "      <td>2016</td>\n",
       "      <td>8</td>\n",
       "      <td>12</td>\n",
       "      <td>542843</td>\n",
       "      <td>619</td>\n",
       "    </tr>\n",
       "  </tbody>\n",
       "</table>\n",
       "</div>"
      ],
      "text/plain": [
       "    Rok  StopaBezrobocia  CzasPoszukiwaniaPracy  LiczbaBezrobotnych  \\\n",
       "0  2008               10                     18              501339   \n",
       "1  2009                7                     12              488898   \n",
       "2  2010                8                     11              568687   \n",
       "3  2011               10                      9              685237   \n",
       "4  2012               10                     11              757239   \n",
       "5  2013               10                     11              827080   \n",
       "6  2014               10                     12              760056   \n",
       "7  2015                9                     13              620855   \n",
       "8  2016                8                     12              542843   \n",
       "\n",
       "   LiczbaNowychMiejscPracy  \n",
       "0                      491  \n",
       "1                      522  \n",
       "2                      609  \n",
       "3                      580  \n",
       "4                      465  \n",
       "5                      502  \n",
       "6                      615  \n",
       "7                      596  \n",
       "8                      619  "
      ]
     },
     "execution_count": 3,
     "metadata": {},
     "output_type": "execute_result"
    }
   ],
   "source": [
    "# Read CSV file \n",
    "data2 = pd.read_csv('Analiza1.csv', sep=\";\")\n",
    "data2.head(n=10)"
   ]
  },
  {
   "cell_type": "code",
   "execution_count": 4,
   "metadata": {},
   "outputs": [
    {
     "name": "stderr",
     "output_type": "stream",
     "text": [
      "/srv/conda/lib/python3.6/site-packages/matplotlib/font_manager.py:1320: UserWarning: findfont: Font family ['sans-serif'] not found. Falling back to DejaVu Sans\n",
      "  (prop.get_family(), self.defaultFamily[fontext]))\n"
     ]
    },
    {
     "data": {
      "image/png": "[encoded data removed]",
      "text/plain": [
       "<matplotlib.figure.Figure at 0x7f9858a9cc88>"
      ]
     },
     "metadata": {},
     "output_type": "display_data"
    }
   ],
   "source": [
    "#Print the graph\n",
    "x = data2.StopaBezrobocia\n",
    "y = data2.CzasPoszukiwaniaPracy\n",
    "\n",
    "#Plot the dataset\n",
    "plt.scatter(x,y)\n",
    "plt.xlabel('StopaBezrobocia')\n",
    "plt.ylabel('CzasPoszukiwaniaPracy')\n",
    "plt.title('Dataset')\n",
    "plt.show()"
   ]
  },
  {
   "cell_type": "code",
   "execution_count": 5,
   "metadata": {},
   "outputs": [
    {
     "name": "stderr",
     "output_type": "stream",
     "text": [
      "/srv/conda/lib/python3.6/site-packages/matplotlib/font_manager.py:1320: UserWarning: findfont: Font family ['sans-serif'] not found. Falling back to DejaVu Sans\n",
      "  (prop.get_family(), self.defaultFamily[fontext]))\n"
     ]
    },
    {
     "data": {
      "image/png": "[encoded data removed]",
      "text/plain": [
       "<matplotlib.figure.Figure at 0x7f9858a9cef0>"
      ]
     },
     "metadata": {},
     "output_type": "display_data"
    }
   ],
   "source": [
    "# Use LinearRegression estimator to print line, which will be the best fitted to data\n",
    "from sklearn.linear_model import LinearRegression\n",
    "model = LinearRegression(fit_intercept=True)\n",
    "\n",
    "model.fit(x[:, None], y)\n",
    "\n",
    "xfit = np.linspace(11, 7, 10)\n",
    "yfit = model.predict(xfit[:, None])\n",
    "\n",
    "plt.scatter(x, y)\n",
    "plt.plot(xfit, yfit);\n"
   ]
  },
  {
   "cell_type": "code",
   "execution_count": 6,
   "metadata": {},
   "outputs": [],
   "source": [
    "import scipy\n",
    "slope, intercept, r_value, p_value, std_err = scipy.stats.linregress(x, y)"
   ]
  },
  {
   "cell_type": "code",
   "execution_count": 7,
   "metadata": {},
   "outputs": [
    {
     "data": {
      "text/plain": [
       "LinregressResult(slope=0.17346938775510212, intercept=10.530612244897958, rvalue=0.081867126156250844, pvalue=0.83415034146068423, stderr=0.79818582600788446)"
      ]
     },
     "execution_count": 7,
     "metadata": {},
     "output_type": "execute_result"
    }
   ],
   "source": [
    "# Showing the parameters values \n",
    "scipy.stats.linregress(x, y)"
   ]
  },
  {
   "cell_type": "code",
   "execution_count": 8,
   "metadata": {},
   "outputs": [],
   "source": [
    "# Based on statistical values we could present how will linear model look like:\n",
    "# Y = 0.17346938775510212 * X + 10.530612244897958\n",
    "\n",
    "# Slope value gives an information how big impact it has to variable Y\n",
    "# Boost the \"X\" variable by one entity increases \"Y\" variable by 0.17346938775510212*Y\n",
    "\n",
    "# Intercept value gives us an information what will be result if variable \"X\" will have 0 value.\n",
    "\n",
    "# Variables have low correlation in direct proportion, it amounts 8%. It means that function is really in low level fitted to data."
   ]
  },
  {
   "cell_type": "code",
   "execution_count": 9,
   "metadata": {},
   "outputs": [
    {
     "name": "stderr",
     "output_type": "stream",
     "text": [
      "/srv/conda/lib/python3.6/site-packages/matplotlib/font_manager.py:1320: UserWarning: findfont: Font family ['sans-serif'] not found. Falling back to DejaVu Sans\n",
      "  (prop.get_family(), self.defaultFamily[fontext]))\n"
     ]
    },
    {
     "data": {
      "image/png": "[encoded data removed]",
      "text/plain": [
       "<matplotlib.figure.Figure at 0x7f9858a86eb8>"
      ]
     },
     "metadata": {},
     "output_type": "display_data"
    }
   ],
   "source": [
    "#Print the graph\n",
    "x = data2.StopaBezrobocia\n",
    "y = data2.LiczbaNowychMiejscPracy\n",
    "\n",
    "#Plot the dataset\n",
    "plt.scatter(x,y)\n",
    "plt.xlabel('StopaBezrobocia')\n",
    "plt.ylabel('LiczbaNowychMiejscPracy')\n",
    "plt.title('Dataset')\n",
    "plt.show()"
   ]
  },
  {
   "cell_type": "code",
   "execution_count": 10,
   "metadata": {},
   "outputs": [
    {
     "name": "stderr",
     "output_type": "stream",
     "text": [
      "/srv/conda/lib/python3.6/site-packages/matplotlib/font_manager.py:1320: UserWarning: findfont: Font family ['sans-serif'] not found. Falling back to DejaVu Sans\n",
      "  (prop.get_family(), self.defaultFamily[fontext]))\n"
     ]
    },
    {
     "data": {
      "image/png": "[encoded data removed]",
      "text/plain": [
       "<matplotlib.figure.Figure at 0x7f980a0b96d8>"
      ]
     },
     "metadata": {},
     "output_type": "display_data"
    }
   ],
   "source": [
    "# Use LinearRegression estimator to print line, which will be the best fitted to data\n",
    "from sklearn.linear_model import LinearRegression\n",
    "model = LinearRegression(fit_intercept=True)\n",
    "\n",
    "model.fit(x[:, None], y)\n",
    "\n",
    "xfit = np.linspace(11, 7, 10)\n",
    "yfit = model.predict(xfit[:, None])\n",
    "\n",
    "plt.scatter(x, y)\n",
    "plt.plot(xfit, yfit);\n"
   ]
  },
  {
   "cell_type": "code",
   "execution_count": 11,
   "metadata": {},
   "outputs": [
    {
     "data": {
      "text/plain": [
       "LinregressResult(slope=-16.020408163265312, intercept=701.40816326530614, rvalue=-0.31037721510859467, pvalue=0.41628938076374444, stderr=18.545506209302857)"
      ]
     },
     "execution_count": 11,
     "metadata": {},
     "output_type": "execute_result"
    }
   ],
   "source": [
    "# Showing the parameters values \n",
    "scipy.stats.linregress(x, y)"
   ]
  },
  {
   "cell_type": "code",
   "execution_count": 12,
   "metadata": {},
   "outputs": [],
   "source": [
    "# Based on statistical values we could present how will linear model look like:\n",
    "# Y = -16.020408163265312 * X + 701.40816326530614\n",
    "\n",
    "# Slope value gives an information how big impact it has to variable Y\n",
    "# Boost the \"X\" variable by one entity decreases \"Y\" variable by -16.020408163265312\n",
    "\n",
    "# Intercept value gives us an information what will be result if variable \"X\" will have 0 value.\n",
    "\n",
    "# Variables have low correlation in inverse proportion, it amounts -31%. It means unsatisfactory fitting."
   ]
  },
  {
   "cell_type": "code",
   "execution_count": 13,
   "metadata": {},
   "outputs": [
    {
     "name": "stderr",
     "output_type": "stream",
     "text": [
      "/srv/conda/lib/python3.6/site-packages/matplotlib/font_manager.py:1320: UserWarning: findfont: Font family ['sans-serif'] not found. Falling back to DejaVu Sans\n",
      "  (prop.get_family(), self.defaultFamily[fontext]))\n"
     ]
    },
    {
     "data": {
      "image/png": "[encoded data removed]",
      "text/plain": [
       "<matplotlib.figure.Figure at 0x7f980a00ca90>"
      ]
     },
     "metadata": {},
     "output_type": "display_data"
    }
   ],
   "source": [
    "#Print the graph\n",
    "x = data2.StopaBezrobocia\n",
    "y = data2.LiczbaBezrobotnych\n",
    "\n",
    "#Plot the dataset\n",
    "plt.scatter(x,y)\n",
    "plt.xlabel('StopaBezrobocia')\n",
    "plt.ylabel('LiczbaBezrobotnych')\n",
    "plt.title('Dataset')\n",
    "plt.show()"
   ]
  },
  {
   "cell_type": "code",
   "execution_count": 14,
   "metadata": {},
   "outputs": [
    {
     "name": "stderr",
     "output_type": "stream",
     "text": [
      "/srv/conda/lib/python3.6/site-packages/matplotlib/font_manager.py:1320: UserWarning: findfont: Font family ['sans-serif'] not found. Falling back to DejaVu Sans\n",
      "  (prop.get_family(), self.defaultFamily[fontext]))\n"
     ]
    },
    {
     "data": {
      "image/png": "[encoded data removed]",
      "text/plain": [
       "<matplotlib.figure.Figure at 0x7f980a0b9550>"
      ]
     },
     "metadata": {},
     "output_type": "display_data"
    }
   ],
   "source": [
    "# Use LinearRegression estimator to print line, which will be the best fitted to data\n",
    "from sklearn.linear_model import LinearRegression\n",
    "model = LinearRegression(fit_intercept=True)\n",
    "\n",
    "model.fit(x[:, None], y)\n",
    "\n",
    "xfit = np.linspace(11, 7, 10)\n",
    "yfit = model.predict(xfit[:, None])\n",
    "\n",
    "plt.scatter(x, y)\n",
    "plt.plot(xfit, yfit);\n"
   ]
  },
  {
   "cell_type": "code",
   "execution_count": 15,
   "metadata": {},
   "outputs": [
    {
     "data": {
      "text/plain": [
       "LinregressResult(slope=73697.867346938801, intercept=-32332.346938775736, rvalue=0.69583264335620421, pvalue=0.037369152499429431, stderr=28750.731504048625)"
      ]
     },
     "execution_count": 15,
     "metadata": {},
     "output_type": "execute_result"
    }
   ],
   "source": [
    "# Showing the parameters values \n",
    "scipy.stats.linregress(x, y)"
   ]
  },
  {
   "cell_type": "code",
   "execution_count": 17,
   "metadata": {},
   "outputs": [],
   "source": [
    "# Based on statistical values we could present how will linear model look like:\n",
    "# Y = 73697.867346938801 * X + -32332.346938775736\n",
    "\n",
    "# Slope value gives an information how big impact it has to variable Y\n",
    "# Boost the \"X\" variable by one entity increases \"Y\" variable by 73697.867346938801\n",
    "\n",
    "# Intercept value gives us an information what will be result if variable \"X\" will have 0 value.\n",
    "\n",
    "# Variables have high correlation in inverse proportion, it amounts 69%. It means satisfactory fitting."
   ]
  },
  {
   "cell_type": "code",
   "execution_count": 20,
   "metadata": {},
   "outputs": [
    {
     "name": "stderr",
     "output_type": "stream",
     "text": [
      "/srv/conda/lib/python3.6/site-packages/matplotlib/font_manager.py:1320: UserWarning: findfont: Font family ['sans-serif'] not found. Falling back to DejaVu Sans\n",
      "  (prop.get_family(), self.defaultFamily[fontext]))\n"
     ]
    },
    {
     "data": {
      "image/png": "[encoded data removed]",
      "text/plain": [
       "<matplotlib.figure.Figure at 0x7f9809f68978>"
      ]
     },
     "metadata": {},
     "output_type": "display_data"
    }
   ],
   "source": [
    "#Print the graph\n",
    "x = data2.CzasPoszukiwaniaPracy\n",
    "y = data2.LiczbaNowychMiejscPracy\n",
    "\n",
    "#Plot the dataset\n",
    "plt.scatter(x,y)\n",
    "plt.xlabel('CzasPoszukiwaniaPracy')\n",
    "plt.ylabel('LiczbaNowychMiejscPracy')\n",
    "plt.title('Dataset')\n",
    "plt.show()"
   ]
  },
  {
   "cell_type": "code",
   "execution_count": 22,
   "metadata": {},
   "outputs": [
    {
     "name": "stderr",
     "output_type": "stream",
     "text": [
      "/srv/conda/lib/python3.6/site-packages/matplotlib/font_manager.py:1320: UserWarning: findfont: Font family ['sans-serif'] not found. Falling back to DejaVu Sans\n",
      "  (prop.get_family(), self.defaultFamily[fontext]))\n"
     ]
    },
    {
     "data": {
      "image/png": "[encoded data removed]",
      "text/plain": [
       "<matplotlib.figure.Figure at 0x7f9858a60198>"
      ]
     },
     "metadata": {},
     "output_type": "display_data"
    }
   ],
   "source": [
    "# Use LinearRegression estimator to print line, which will be the best fitted to data\n",
    "from sklearn.linear_model import LinearRegression\n",
    "model = LinearRegression(fit_intercept=True)\n",
    "\n",
    "model.fit(x[:, None], y)\n",
    "\n",
    "xfit = np.linspace(19, 7, 10)\n",
    "yfit = model.predict(xfit[:, None])\n",
    "\n",
    "plt.scatter(x, y)\n",
    "plt.plot(xfit, yfit);"
   ]
  },
  {
   "cell_type": "code",
   "execution_count": 23,
   "metadata": {},
   "outputs": [
    {
     "data": {
      "text/plain": [
       "LinregressResult(slope=-6.7386363636363589, intercept=637.05681818181813, rvalue=-0.27663146515547221, pvalue=0.47116277183010058, stderr=8.8477736428807443)"
      ]
     },
     "execution_count": 23,
     "metadata": {},
     "output_type": "execute_result"
    }
   ],
   "source": [
    "# Showing the parameters values \n",
    "scipy.stats.linregress(x, y)"
   ]
  },
  {
   "cell_type": "code",
   "execution_count": null,
   "metadata": {},
   "outputs": [],
   "source": [
    "# Based on statistical values we could present how will linear model look like:\n",
    "# Y = -6.7386363636363589 * X + 637.05681818181813\n",
    "\n",
    "# Slope value gives an information how big impact it has to variable Y\n",
    "# Boost the \"X\" variable by one entity decreases \"Y\" variable by -6.7386363636363589\n",
    "\n",
    "# Intercept value gives us an information what will be result if variable \"X\" will have 0 value.\n",
    "\n",
    "# Variables have low correlation in inverse proportion, it amounts -27%. It means unsatisfactory fitting."
   ]
  }
 ],
 "metadata": {
  "kernelspec": {
   "display_name": "Python 3",
   "language": "python",
   "name": "python3"
  },
  "language_info": {
   "codemirror_mode": {
    "name": "ipython",
    "version": 3
   },
   "file_extension": ".py",
   "mimetype": "text/x-python",
   "name": "python",
   "nbconvert_exporter": "python",
   "pygments_lexer": "ipython3",
   "version": "3.6.5"
  }
 },
 "nbformat": 4,
 "nbformat_minor": 2
}
