{
 "cells": [
  {
   "cell_type": "markdown",
   "metadata": {},
   "source": [
    "The code examples build a working, executable prototype: an app to classify phone SMS messages in English (well, the \"SMS kind\" of English...) as either \"spam\" or \"ham\" (=not spam)."
   ]
  },
  {
   "cell_type": "code",
   "execution_count": 82,
   "metadata": {},
   "outputs": [],
   "source": [
    "%matplotlib inline\n",
    "import matplotlib.pyplot as plt\n",
    "import csv\n",
    "from textblob import TextBlob\n",
    "import pandas\n",
    "import sklearn\n",
    "import _pickle as cPickle\n",
    "import numpy as np\n",
    "from sklearn.feature_extraction.text import CountVectorizer, TfidfTransformer\n",
    "from sklearn.naive_bayes import MultinomialNB\n",
    "from sklearn.svm import SVC, LinearSVC\n",
    "from sklearn.metrics import classification_report, f1_score, accuracy_score, confusion_matrix\n",
    "from sklearn.pipeline import Pipeline\n",
    "from sklearn.model_selection import StratifiedKFold, cross_val_score, train_test_split, GridSearchCV, learning_curve\n",
    "from sklearn.tree import DecisionTreeClassifier "
   ]
  },
  {
   "cell_type": "code",
   "execution_count": 83,
   "metadata": {},
   "outputs": [],
   "source": [
    "# https://archive.ics.uci.edu/ml/machine-learning-databases/00228/\n",
    "messages = [line.rstrip() for line in open('./SMSSpamCollection',  encoding=\"utf8\")]"
   ]
  },
  {
   "cell_type": "code",
   "execution_count": 84,
   "metadata": {},
   "outputs": [
    {
     "name": "stdout",
     "output_type": "stream",
     "text": [
      "5574\n"
     ]
    }
   ],
   "source": [
    "print(len(messages))"
   ]
  },
  {
   "cell_type": "code",
   "execution_count": 85,
   "metadata": {},
   "outputs": [
    {
     "name": "stdout",
     "output_type": "stream",
     "text": [
      "['ham\\tGo until jurong point, crazy.. Available only in bugis n great world la e buffet... Cine there got amore wat...']\n"
     ]
    }
   ],
   "source": [
    "print(messages[:1])"
   ]
  },
  {
   "cell_type": "code",
   "execution_count": 86,
   "metadata": {},
   "outputs": [
    {
     "name": "stdout",
     "output_type": "stream",
     "text": [
      "0 ham\tGo until jurong point, crazy.. Available only in bugis n great world la e buffet... Cine there got amore wat...\n",
      "1 ham\tOk lar... Joking wif u oni...\n",
      "2 spam\tFree entry in 2 a wkly comp to win FA Cup final tkts 21st May 2005. Text FA to 87121 to receive entry question(std txt rate)T&C's apply 08452810075over18's\n",
      "3 ham\tU dun say so early hor... U c already then say...\n",
      "4 ham\tNah I don't think he goes to usf, he lives around here though\n",
      "5 spam\tFreeMsg Hey there darling it's been 3 week's now and no word back! I'd like some fun you up for it still? Tb ok! XxX std chgs to send, £1.50 to rcv\n",
      "6 ham\tEven my brother is not like to speak with me. They treat me like aids patent.\n",
      "7 ham\tAs per your request 'Melle Melle (Oru Minnaminunginte Nurungu Vettam)' has been set as your callertune for all Callers. Press *9 to copy your friends Callertune\n",
      "8 spam\tWINNER!! As a valued network customer you have been selected to receivea £900 prize reward! To claim call 09061701461. Claim code KL341. Valid 12 hours only.\n",
      "9 spam\tHad your mobile 11 months or more? U R entitled to Update to the latest colour mobiles with camera for Free! Call The Mobile Update Co FREE on 08002986030\n"
     ]
    }
   ],
   "source": [
    "for message_nr, message in enumerate(messages[:10]):\n",
    "    print(message_nr, message)"
   ]
  },
  {
   "cell_type": "code",
   "execution_count": 87,
   "metadata": {},
   "outputs": [],
   "source": [
    "messages = pandas.read_csv('./SMSSpamCollection', sep='\\t' , quoting=csv.QUOTE_NONE,\n",
    "                           names=[\"label\", \"message\"])"
   ]
  },
  {
   "cell_type": "code",
   "execution_count": 88,
   "metadata": {},
   "outputs": [
    {
     "data": {
      "text/html": [
       "<div>\n",
       "<style scoped>\n",
       "    .dataframe tbody tr th:only-of-type {\n",
       "        vertical-align: middle;\n",
       "    }\n",
       "\n",
       "    .dataframe tbody tr th {\n",
       "        vertical-align: top;\n",
       "    }\n",
       "\n",
       "    .dataframe thead th {\n",
       "        text-align: right;\n",
       "    }\n",
       "</style>\n",
       "<table border=\"1\" class=\"dataframe\">\n",
       "  <thead>\n",
       "    <tr style=\"text-align: right;\">\n",
       "      <th></th>\n",
       "      <th>label</th>\n",
       "      <th>message</th>\n",
       "    </tr>\n",
       "  </thead>\n",
       "  <tbody>\n",
       "    <tr>\n",
       "      <th>0</th>\n",
       "      <td>ham</td>\n",
       "      <td>Go until jurong point, crazy.. Available only ...</td>\n",
       "    </tr>\n",
       "    <tr>\n",
       "      <th>1</th>\n",
       "      <td>ham</td>\n",
       "      <td>Ok lar... Joking wif u oni...</td>\n",
       "    </tr>\n",
       "    <tr>\n",
       "      <th>2</th>\n",
       "      <td>spam</td>\n",
       "      <td>Free entry in 2 a wkly comp to win FA Cup fina...</td>\n",
       "    </tr>\n",
       "    <tr>\n",
       "      <th>3</th>\n",
       "      <td>ham</td>\n",
       "      <td>U dun say so early hor... U c already then say...</td>\n",
       "    </tr>\n",
       "    <tr>\n",
       "      <th>4</th>\n",
       "      <td>ham</td>\n",
       "      <td>Nah I don't think he goes to usf, he lives aro...</td>\n",
       "    </tr>\n",
       "  </tbody>\n",
       "</table>\n",
       "</div>"
      ],
      "text/plain": [
       "  label                                            message\n",
       "0   ham  Go until jurong point, crazy.. Available only ...\n",
       "1   ham                      Ok lar... Joking wif u oni...\n",
       "2  spam  Free entry in 2 a wkly comp to win FA Cup fina...\n",
       "3   ham  U dun say so early hor... U c already then say...\n",
       "4   ham  Nah I don't think he goes to usf, he lives aro..."
      ]
     },
     "execution_count": 88,
     "metadata": {},
     "output_type": "execute_result"
    }
   ],
   "source": [
    "messages.head()"
   ]
  },
  {
   "cell_type": "code",
   "execution_count": 89,
   "metadata": {},
   "outputs": [
    {
     "data": {
      "text/html": [
       "<div>\n",
       "<style scoped>\n",
       "    .dataframe tbody tr th:only-of-type {\n",
       "        vertical-align: middle;\n",
       "    }\n",
       "\n",
       "    .dataframe tbody tr th {\n",
       "        vertical-align: top;\n",
       "    }\n",
       "\n",
       "    .dataframe thead th {\n",
       "        text-align: right;\n",
       "    }\n",
       "</style>\n",
       "<table border=\"1\" class=\"dataframe\">\n",
       "  <thead>\n",
       "    <tr style=\"text-align: right;\">\n",
       "      <th></th>\n",
       "      <th>label</th>\n",
       "      <th>message</th>\n",
       "    </tr>\n",
       "  </thead>\n",
       "  <tbody>\n",
       "    <tr>\n",
       "      <th>count</th>\n",
       "      <td>5574</td>\n",
       "      <td>5574</td>\n",
       "    </tr>\n",
       "    <tr>\n",
       "      <th>unique</th>\n",
       "      <td>2</td>\n",
       "      <td>5171</td>\n",
       "    </tr>\n",
       "    <tr>\n",
       "      <th>top</th>\n",
       "      <td>ham</td>\n",
       "      <td>Sorry, I'll call later</td>\n",
       "    </tr>\n",
       "    <tr>\n",
       "      <th>freq</th>\n",
       "      <td>4827</td>\n",
       "      <td>30</td>\n",
       "    </tr>\n",
       "  </tbody>\n",
       "</table>\n",
       "</div>"
      ],
      "text/plain": [
       "       label                 message\n",
       "count   5574                    5574\n",
       "unique     2                    5171\n",
       "top      ham  Sorry, I'll call later\n",
       "freq    4827                      30"
      ]
     },
     "execution_count": 89,
     "metadata": {},
     "output_type": "execute_result"
    }
   ],
   "source": [
    "messages.describe()"
   ]
  },
  {
   "cell_type": "code",
   "execution_count": 90,
   "metadata": {},
   "outputs": [
    {
     "data": {
      "text/html": [
       "<div>\n",
       "<style scoped>\n",
       "    .dataframe tbody tr th:only-of-type {\n",
       "        vertical-align: middle;\n",
       "    }\n",
       "\n",
       "    .dataframe tbody tr th {\n",
       "        vertical-align: top;\n",
       "    }\n",
       "\n",
       "    .dataframe thead tr th {\n",
       "        text-align: left;\n",
       "    }\n",
       "\n",
       "    .dataframe thead tr:last-of-type th {\n",
       "        text-align: right;\n",
       "    }\n",
       "</style>\n",
       "<table border=\"1\" class=\"dataframe\">\n",
       "  <thead>\n",
       "    <tr>\n",
       "      <th></th>\n",
       "      <th colspan=\"4\" halign=\"left\">message</th>\n",
       "    </tr>\n",
       "    <tr>\n",
       "      <th></th>\n",
       "      <th>count</th>\n",
       "      <th>unique</th>\n",
       "      <th>top</th>\n",
       "      <th>freq</th>\n",
       "    </tr>\n",
       "    <tr>\n",
       "      <th>label</th>\n",
       "      <th></th>\n",
       "      <th></th>\n",
       "      <th></th>\n",
       "      <th></th>\n",
       "    </tr>\n",
       "  </thead>\n",
       "  <tbody>\n",
       "    <tr>\n",
       "      <th>ham</th>\n",
       "      <td>4827</td>\n",
       "      <td>4518</td>\n",
       "      <td>Sorry, I'll call later</td>\n",
       "      <td>30</td>\n",
       "    </tr>\n",
       "    <tr>\n",
       "      <th>spam</th>\n",
       "      <td>747</td>\n",
       "      <td>653</td>\n",
       "      <td>Please call our customer service representativ...</td>\n",
       "      <td>4</td>\n",
       "    </tr>\n",
       "  </tbody>\n",
       "</table>\n",
       "</div>"
      ],
      "text/plain": [
       "      message                                                               \n",
       "        count unique                                                top freq\n",
       "label                                                                       \n",
       "ham      4827   4518                             Sorry, I'll call later   30\n",
       "spam      747    653  Please call our customer service representativ...    4"
      ]
     },
     "execution_count": 90,
     "metadata": {},
     "output_type": "execute_result"
    }
   ],
   "source": [
    "messages.groupby('label').describe()"
   ]
  },
  {
   "cell_type": "code",
   "execution_count": 91,
   "metadata": {},
   "outputs": [
    {
     "data": {
      "text/html": [
       "<div>\n",
       "<style scoped>\n",
       "    .dataframe tbody tr th:only-of-type {\n",
       "        vertical-align: middle;\n",
       "    }\n",
       "\n",
       "    .dataframe tbody tr th {\n",
       "        vertical-align: top;\n",
       "    }\n",
       "\n",
       "    .dataframe thead th {\n",
       "        text-align: right;\n",
       "    }\n",
       "</style>\n",
       "<table border=\"1\" class=\"dataframe\">\n",
       "  <thead>\n",
       "    <tr style=\"text-align: right;\">\n",
       "      <th></th>\n",
       "      <th>label</th>\n",
       "      <th>message</th>\n",
       "      <th>length</th>\n",
       "    </tr>\n",
       "  </thead>\n",
       "  <tbody>\n",
       "    <tr>\n",
       "      <th>13</th>\n",
       "      <td>ham</td>\n",
       "      <td>I've been searching for the right words to tha...</td>\n",
       "      <td>196</td>\n",
       "    </tr>\n",
       "    <tr>\n",
       "      <th>7</th>\n",
       "      <td>ham</td>\n",
       "      <td>As per your request 'Melle Melle (Oru Minnamin...</td>\n",
       "      <td>160</td>\n",
       "    </tr>\n",
       "    <tr>\n",
       "      <th>8</th>\n",
       "      <td>spam</td>\n",
       "      <td>WINNER!! As a valued network customer you have...</td>\n",
       "      <td>157</td>\n",
       "    </tr>\n",
       "    <tr>\n",
       "      <th>2</th>\n",
       "      <td>spam</td>\n",
       "      <td>Free entry in 2 a wkly comp to win FA Cup fina...</td>\n",
       "      <td>155</td>\n",
       "    </tr>\n",
       "    <tr>\n",
       "      <th>12</th>\n",
       "      <td>spam</td>\n",
       "      <td>URGENT! You have won a 1 week FREE membership ...</td>\n",
       "      <td>155</td>\n",
       "    </tr>\n",
       "    <tr>\n",
       "      <th>9</th>\n",
       "      <td>spam</td>\n",
       "      <td>Had your mobile 11 months or more? U R entitle...</td>\n",
       "      <td>154</td>\n",
       "    </tr>\n",
       "    <tr>\n",
       "      <th>5</th>\n",
       "      <td>spam</td>\n",
       "      <td>FreeMsg Hey there darling it's been 3 week's n...</td>\n",
       "      <td>147</td>\n",
       "    </tr>\n",
       "    <tr>\n",
       "      <th>11</th>\n",
       "      <td>spam</td>\n",
       "      <td>SIX chances to win CASH! From 100 to 20,000 po...</td>\n",
       "      <td>136</td>\n",
       "    </tr>\n",
       "    <tr>\n",
       "      <th>0</th>\n",
       "      <td>ham</td>\n",
       "      <td>Go until jurong point, crazy.. Available only ...</td>\n",
       "      <td>111</td>\n",
       "    </tr>\n",
       "    <tr>\n",
       "      <th>10</th>\n",
       "      <td>ham</td>\n",
       "      <td>I'm gonna be home soon and i don't want to tal...</td>\n",
       "      <td>109</td>\n",
       "    </tr>\n",
       "    <tr>\n",
       "      <th>6</th>\n",
       "      <td>ham</td>\n",
       "      <td>Even my brother is not like to speak with me. ...</td>\n",
       "      <td>77</td>\n",
       "    </tr>\n",
       "    <tr>\n",
       "      <th>4</th>\n",
       "      <td>ham</td>\n",
       "      <td>Nah I don't think he goes to usf, he lives aro...</td>\n",
       "      <td>61</td>\n",
       "    </tr>\n",
       "    <tr>\n",
       "      <th>3</th>\n",
       "      <td>ham</td>\n",
       "      <td>U dun say so early hor... U c already then say...</td>\n",
       "      <td>49</td>\n",
       "    </tr>\n",
       "    <tr>\n",
       "      <th>14</th>\n",
       "      <td>ham</td>\n",
       "      <td>I HAVE A DATE ON SUNDAY WITH WILL!!</td>\n",
       "      <td>35</td>\n",
       "    </tr>\n",
       "    <tr>\n",
       "      <th>1</th>\n",
       "      <td>ham</td>\n",
       "      <td>Ok lar... Joking wif u oni...</td>\n",
       "      <td>29</td>\n",
       "    </tr>\n",
       "  </tbody>\n",
       "</table>\n",
       "</div>"
      ],
      "text/plain": [
       "   label                                            message  length\n",
       "13   ham  I've been searching for the right words to tha...     196\n",
       "7    ham  As per your request 'Melle Melle (Oru Minnamin...     160\n",
       "8   spam  WINNER!! As a valued network customer you have...     157\n",
       "2   spam  Free entry in 2 a wkly comp to win FA Cup fina...     155\n",
       "12  spam  URGENT! You have won a 1 week FREE membership ...     155\n",
       "9   spam  Had your mobile 11 months or more? U R entitle...     154\n",
       "5   spam  FreeMsg Hey there darling it's been 3 week's n...     147\n",
       "11  spam  SIX chances to win CASH! From 100 to 20,000 po...     136\n",
       "0    ham  Go until jurong point, crazy.. Available only ...     111\n",
       "10   ham  I'm gonna be home soon and i don't want to tal...     109\n",
       "6    ham  Even my brother is not like to speak with me. ...      77\n",
       "4    ham  Nah I don't think he goes to usf, he lives aro...      61\n",
       "3    ham  U dun say so early hor... U c already then say...      49\n",
       "14   ham                I HAVE A DATE ON SUNDAY WITH WILL!!      35\n",
       "1    ham                      Ok lar... Joking wif u oni...      29"
      ]
     },
     "execution_count": 91,
     "metadata": {},
     "output_type": "execute_result"
    }
   ],
   "source": [
    "messages['length'] = messages['message'].map(lambda text: len(text))\n",
    "messages.head(15).sort_values(by='length', ascending=False)"
   ]
  },
  {
   "cell_type": "code",
   "execution_count": 92,
   "metadata": {},
   "outputs": [
    {
     "data": {
      "image/png": "[encoded data removed]",
      "text/plain": [
       "<Figure size 432x288 with 1 Axes>"
      ]
     },
     "metadata": {
      "needs_background": "light"
     },
     "output_type": "display_data"
    }
   ],
   "source": [
    "messages['length'].plot(bins=15 , kind='hist');"
   ]
  },
  {
   "cell_type": "code",
   "execution_count": 93,
   "metadata": {},
   "outputs": [
    {
     "data": {
      "text/plain": [
       "count    5574.000000\n",
       "mean       80.478292\n",
       "std        59.848302\n",
       "min         2.000000\n",
       "25%        36.000000\n",
       "50%        62.000000\n",
       "75%       122.000000\n",
       "max       910.000000\n",
       "Name: length, dtype: float64"
      ]
     },
     "execution_count": 93,
     "metadata": {},
     "output_type": "execute_result"
    }
   ],
   "source": [
    "messages['length'].describe()"
   ]
  },
  {
   "cell_type": "code",
   "execution_count": 94,
   "metadata": {},
   "outputs": [
    {
     "name": "stdout",
     "output_type": "stream",
     "text": [
      "[\"For me the love should start with attraction.i should feel that I need her every time around me.she should be the first thing which comes in my thoughts.I would start the day and end it with her.she should be there every time I dream.love will be then when my every breath has her name.my life should happen around her.my life will be named to her.I would cry for her.will give all my happiness and take all her sorrows.I will be ready to fight with anyone for her.I will be in love when I will be doing the craziest things for her.love will be when I don't have to proove anyone that my girl is the most beautiful lady on the whole planet.I will always be singing praises for her.love will be when I start up making chicken curry and end up makiing sambar.life will be the most beautiful then.will get every morning and thank god for the day because she is with me.I would like to say a lot..will tell later..\"]\n"
     ]
    }
   ],
   "source": [
    "#Review the longest sms\n",
    "print(list(messages.message[messages.length >900]))"
   ]
  },
  {
   "cell_type": "code",
   "execution_count": 95,
   "metadata": {},
   "outputs": [
    {
     "data": {
      "image/png": "[encoded data removed]",
      "text/plain": [
       "<Figure size 432x288 with 2 Axes>"
      ]
     },
     "metadata": {
      "needs_background": "light"
     },
     "output_type": "display_data"
    }
   ],
   "source": [
    "messages.hist(column = 'length', by='label', bins=40);"
   ]
  },
  {
   "cell_type": "markdown",
   "metadata": {},
   "source": [
    "Data preprocessing"
   ]
  },
  {
   "cell_type": "markdown",
   "metadata": {},
   "source": [
    "#Splitting the data into separated words\n",
    "def split_into_words(message):\n",
    "    message = unicode(message, 'utf8')\n",
    "    return TextBlob(message).words"
   ]
  },
  {
   "cell_type": "code",
   "execution_count": 96,
   "metadata": {},
   "outputs": [],
   "source": [
    "def split_into_words(message):\n",
    "    return message.split()"
   ]
  },
  {
   "cell_type": "code",
   "execution_count": 97,
   "metadata": {},
   "outputs": [
    {
     "data": {
      "text/plain": [
       "0    Go until jurong point, crazy.. Available only ...\n",
       "1                        Ok lar... Joking wif u oni...\n",
       "2    Free entry in 2 a wkly comp to win FA Cup fina...\n",
       "3    U dun say so early hor... U c already then say...\n",
       "4    Nah I don't think he goes to usf, he lives aro...\n",
       "Name: message, dtype: object"
      ]
     },
     "execution_count": 97,
     "metadata": {},
     "output_type": "execute_result"
    }
   ],
   "source": [
    "messages.message.head()"
   ]
  },
  {
   "cell_type": "code",
   "execution_count": 98,
   "metadata": {},
   "outputs": [
    {
     "data": {
      "text/plain": [
       "0    [Go, until, jurong, point,, crazy.., Available...\n",
       "1                 [Ok, lar..., Joking, wif, u, oni...]\n",
       "2    [Free, entry, in, 2, a, wkly, comp, to, win, F...\n",
       "3    [U, dun, say, so, early, hor..., U, c, already...\n",
       "4    [Nah, I, don't, think, he, goes, to, usf,, he,...\n",
       "Name: message, dtype: object"
      ]
     },
     "execution_count": 98,
     "metadata": {},
     "output_type": "execute_result"
    }
   ],
   "source": [
    "messages.message.head().apply(split_into_words)"
   ]
  },
  {
   "cell_type": "code",
   "execution_count": 99,
   "metadata": {},
   "outputs": [],
   "source": [
    "from textblob import TextBlob"
   ]
  },
  {
   "cell_type": "code",
   "execution_count": 100,
   "metadata": {},
   "outputs": [
    {
     "data": {
      "text/plain": [
       "[('Hello', 'NNP'),\n",
       " ('world', 'NN'),\n",
       " ('how', 'WRB'),\n",
       " ('is', 'VBZ'),\n",
       " ('it', 'PRP'),\n",
       " ('going', 'VBG')]"
      ]
     },
     "execution_count": 100,
     "metadata": {},
     "output_type": "execute_result"
    }
   ],
   "source": [
    "TextBlob(\"Hello world, how is it going?\").tags"
   ]
  },
  {
   "cell_type": "code",
   "execution_count": 101,
   "metadata": {},
   "outputs": [],
   "source": [
    "def split_into_lemmas(message):\n",
    "    message = message.lower()\n",
    "    words = TextBlob(message).words\n",
    "    # for each word, take its \"base form\" = lemma \n",
    "    return [word.lemma for word in words]"
   ]
  },
  {
   "cell_type": "code",
   "execution_count": 102,
   "metadata": {},
   "outputs": [
    {
     "data": {
      "text/plain": [
       "0    [go, until, jurong, point, crazy, available, o...\n",
       "1                       [ok, lar, joking, wif, u, oni]\n",
       "2    [free, entry, in, 2, a, wkly, comp, to, win, f...\n",
       "3    [u, dun, say, so, early, hor, u, c, already, t...\n",
       "4    [nah, i, do, n't, think, he, go, to, usf, he, ...\n",
       "Name: message, dtype: object"
      ]
     },
     "execution_count": 102,
     "metadata": {},
     "output_type": "execute_result"
    }
   ],
   "source": [
    "messages.message.head().apply(split_into_lemmas)"
   ]
  },
  {
   "cell_type": "markdown",
   "metadata": {},
   "source": [
    "\n",
    "Step 3: Data to vectors\n",
    "Now we'll convert each message, represented as a list of tokens (lemmas) above, into a vector that machine learning models can understand."
   ]
  },
  {
   "cell_type": "markdown",
   "metadata": {},
   "source": [
    "Doing that requires essentially three steps, in the bag-of-words model:\n",
    "\n",
    "1. Counting how many times does a word occur in each message (term frequency)\n",
    "2. Weighting the counts, so that frequent tokens get lower weight (inverse document frequency)\n",
    "3. Normalizing the vectors to unit length, to abstract from the original text length (L2 norm)"
   ]
  },
  {
   "cell_type": "markdown",
   "metadata": {},
   "source": [
    "Let's take one text message and get its bag-of-words counts as a vector, putting to use our new bow_transformer:"
   ]
  },
  {
   "cell_type": "code",
   "execution_count": 103,
   "metadata": {},
   "outputs": [
    {
     "name": "stdout",
     "output_type": "stream",
     "text": [
      "8857\n"
     ]
    }
   ],
   "source": [
    "bow_transformer = CountVectorizer(analyzer=split_into_lemmas).fit(messages['message'])\n",
    "print(len(bow_transformer.vocabulary_))"
   ]
  },
  {
   "cell_type": "code",
   "execution_count": 104,
   "metadata": {},
   "outputs": [
    {
     "name": "stdout",
     "output_type": "stream",
     "text": [
      "U dun say so early hor... U c already then say...\n"
     ]
    }
   ],
   "source": [
    "message4 = messages['message'][3]\n",
    "print(message4)"
   ]
  },
  {
   "cell_type": "code",
   "execution_count": 105,
   "metadata": {},
   "outputs": [
    {
     "name": "stdout",
     "output_type": "stream",
     "text": [
      "  (0, 1156)\t1\n",
      "  (0, 1895)\t1\n",
      "  (0, 2891)\t1\n",
      "  (0, 2921)\t1\n",
      "  (0, 4015)\t1\n",
      "  (0, 6724)\t2\n",
      "  (0, 7099)\t1\n",
      "  (0, 7685)\t1\n",
      "  (0, 8000)\t2\n",
      "(1, 8857)\n"
     ]
    }
   ],
   "source": [
    "bow4 = bow_transformer.transform([message4])\n",
    "print(bow4)\n",
    "print(bow4.shape)"
   ]
  },
  {
   "cell_type": "markdown",
   "metadata": {},
   "source": [
    "So, nine unique words in message nr. 4, two of them appear twice, the rest only once. Sanity check: what are these words the appear twice?"
   ]
  },
  {
   "cell_type": "code",
   "execution_count": 106,
   "metadata": {},
   "outputs": [
    {
     "name": "stdout",
     "output_type": "stream",
     "text": [
      "scenario\n",
      "ugo\n"
     ]
    }
   ],
   "source": [
    "print(bow_transformer.get_feature_names()[6736])\n",
    "print(bow_transformer.get_feature_names()[8013])"
   ]
  },
  {
   "cell_type": "markdown",
   "metadata": {},
   "source": [
    "The bag-of-words counts for the entire SMS corpus are a large, sparse matrix:"
   ]
  },
  {
   "cell_type": "code",
   "execution_count": 107,
   "metadata": {},
   "outputs": [
    {
     "name": "stdout",
     "output_type": "stream",
     "text": [
      "sparse matrix shape: (5574, 8857)\n",
      "number of non-zeros: 80340\n",
      "sparsity: 0.16%\n"
     ]
    }
   ],
   "source": [
    "messages_bow = bow_transformer.transform(messages['message'])\n",
    "print ('sparse matrix shape:', messages_bow.shape)\n",
    "print ('number of non-zeros:', messages_bow.nnz)\n",
    "print ('sparsity: %.2f%%' % (100.0 * messages_bow.nnz / (messages_bow.shape[0] * messages_bow.shape[1])))"
   ]
  },
  {
   "cell_type": "markdown",
   "metadata": {},
   "source": [
    "And finally, after the counting, the term weighting and normalization can be done with TF-IDF, using scikit-learn's TfidfTransformer:"
   ]
  },
  {
   "cell_type": "code",
   "execution_count": 108,
   "metadata": {},
   "outputs": [
    {
     "name": "stdout",
     "output_type": "stream",
     "text": [
      "  (0, 8000)\t0.30500390244920195\n",
      "  (0, 7685)\t0.22530830435091123\n",
      "  (0, 7099)\t0.19139747787841085\n",
      "  (0, 6724)\t0.5233907074133691\n",
      "  (0, 4015)\t0.4563719925781256\n",
      "  (0, 2921)\t0.329688073969027\n",
      "  (0, 2891)\t0.30370462627268274\n",
      "  (0, 1895)\t0.24665241656533501\n",
      "  (0, 1156)\t0.27494440163841516\n"
     ]
    }
   ],
   "source": [
    "tfidf_transformer = TfidfTransformer().fit(messages_bow)\n",
    "tfidf4 = tfidf_transformer.transform(bow4)\n",
    "print (tfidf4)"
   ]
  },
  {
   "cell_type": "markdown",
   "metadata": {},
   "source": [
    "What is the IDF (inverse document frequency) of the word \"u\"? Of word \"university\"?"
   ]
  },
  {
   "cell_type": "code",
   "execution_count": 109,
   "metadata": {},
   "outputs": [
    {
     "name": "stdout",
     "output_type": "stream",
     "text": [
      "2.8495406039561364\n",
      "8.239753235208429\n"
     ]
    }
   ],
   "source": [
    "print (tfidf_transformer.idf_[bow_transformer.vocabulary_['u']])\n",
    "print (tfidf_transformer.idf_[bow_transformer.vocabulary_['university']])"
   ]
  },
  {
   "cell_type": "markdown",
   "metadata": {},
   "source": [
    "To transform the entire bag-of-words corpus into TF-IDF corpus at once:"
   ]
  },
  {
   "cell_type": "code",
   "execution_count": 110,
   "metadata": {},
   "outputs": [
    {
     "name": "stdout",
     "output_type": "stream",
     "text": [
      "(5574, 8857)\n"
     ]
    }
   ],
   "source": [
    "messages_tfidf = tfidf_transformer.transform(messages_bow)\n",
    "print (messages_tfidf.shape)"
   ]
  },
  {
   "cell_type": "markdown",
   "metadata": {},
   "source": [
    "Step 4: Training a model, detecting spam"
   ]
  },
  {
   "cell_type": "markdown",
   "metadata": {},
   "source": [
    "With messages represented as vectors, we can finally train our spam/ham classifier. This part is pretty straightforward, and there are many libraries that realize the training algorithms.\n",
    "\n",
    "We'll be using scikit-learn here, choosing the Naive Bayes classifier to start with:"
   ]
  },
  {
   "cell_type": "code",
   "execution_count": 111,
   "metadata": {},
   "outputs": [
    {
     "name": "stdout",
     "output_type": "stream",
     "text": [
      "Wall time: 22 ms\n"
     ]
    }
   ],
   "source": [
    "%time spam_detector = MultinomialNB().fit(messages_tfidf, messages['label'])"
   ]
  },
  {
   "cell_type": "markdown",
   "metadata": {},
   "source": [
    "Let's try classifying our single random message:"
   ]
  },
  {
   "cell_type": "code",
   "execution_count": 112,
   "metadata": {},
   "outputs": [
    {
     "name": "stdout",
     "output_type": "stream",
     "text": [
      "predicted: ham\n",
      "expected: ham\n"
     ]
    }
   ],
   "source": [
    "print ('predicted:', spam_detector.predict(tfidf4)[0])\n",
    "print ('expected:', messages.label[3])"
   ]
  },
  {
   "cell_type": "markdown",
   "metadata": {},
   "source": [
    "A natural question is to ask, how many messages do we classify correctly overall?"
   ]
  },
  {
   "cell_type": "code",
   "execution_count": 113,
   "metadata": {},
   "outputs": [
    {
     "name": "stdout",
     "output_type": "stream",
     "text": [
      "['ham' 'ham' 'spam' ... 'ham' 'ham' 'ham']\n"
     ]
    }
   ],
   "source": [
    "all_predictions = spam_detector.predict(messages_tfidf)\n",
    "print (all_predictions)"
   ]
  },
  {
   "cell_type": "code",
   "execution_count": 114,
   "metadata": {},
   "outputs": [
    {
     "name": "stdout",
     "output_type": "stream",
     "text": [
      "accuracy 0.9695012558306423\n",
      "confusion matrix\n",
      " [[4827    0]\n",
      " [ 170  577]]\n",
      "(row=expected, col=predicted)\n"
     ]
    }
   ],
   "source": [
    "print ('accuracy', accuracy_score(messages['label'], all_predictions))\n",
    "print ('confusion matrix\\n', confusion_matrix(messages['label'], all_predictions))\n",
    "print ('(row=expected, col=predicted)')"
   ]
  },
  {
   "cell_type": "code",
   "execution_count": 115,
   "metadata": {},
   "outputs": [
    {
     "data": {
      "text/plain": [
       "<Figure size 1080x360 with 0 Axes>"
      ]
     },
     "metadata": {},
     "output_type": "display_data"
    },
    {
     "data": {
      "image/png": "[encoded data removed]",
      "text/plain": [
       "<Figure size 288x288 with 2 Axes>"
      ]
     },
     "metadata": {
      "needs_background": "light"
     },
     "output_type": "display_data"
    }
   ],
   "source": [
    "plt.figure(figsize=(15,5));\n",
    "plt.matshow(confusion_matrix(messages['label'], all_predictions), cmap=plt.cm.binary, interpolation='nearest');\n",
    "figure_title = 'confusion matrix'\n",
    "plt.title(figure_title, y=1.15);\n",
    "plt.colorbar();\n",
    "plt.ylabel('expected label');\n",
    "plt.xlabel('predicted label');"
   ]
  },
  {
   "cell_type": "code",
   "execution_count": 116,
   "metadata": {},
   "outputs": [
    {
     "name": "stdout",
     "output_type": "stream",
     "text": [
      "              precision    recall  f1-score   support\n",
      "\n",
      "         ham       0.97      1.00      0.98      4827\n",
      "        spam       1.00      0.77      0.87       747\n",
      "\n",
      "    accuracy                           0.97      5574\n",
      "   macro avg       0.98      0.89      0.93      5574\n",
      "weighted avg       0.97      0.97      0.97      5574\n",
      "\n"
     ]
    }
   ],
   "source": [
    "print (classification_report(messages['label'], all_predictions))"
   ]
  },
  {
   "cell_type": "code",
   "execution_count": 117,
   "metadata": {},
   "outputs": [
    {
     "name": "stdout",
     "output_type": "stream",
     "text": [
      "4459 1115 5574\n"
     ]
    }
   ],
   "source": [
    "msg_train, msg_test, label_train, label_test = \\\n",
    "    train_test_split(messages['message'], messages['label'], test_size=0.2)\n",
    "\n",
    "print (len(msg_train), len(msg_test), len(msg_train) + len(msg_test))"
   ]
  },
  {
   "cell_type": "code",
   "execution_count": 118,
   "metadata": {},
   "outputs": [],
   "source": [
    "pipeline = Pipeline([\n",
    "    ('bow', CountVectorizer(analyzer=split_into_lemmas)),  # strings to token integer counts\n",
    "    ('tfidf', TfidfTransformer()),  # integer counts to weighted TF-IDF scores\n",
    "    ('classifier', MultinomialNB()),  # train on TF-IDF vectors w/ Naive Bayes classifier\n",
    "])"
   ]
  },
  {
   "cell_type": "code",
   "execution_count": 119,
   "metadata": {},
   "outputs": [
    {
     "name": "stdout",
     "output_type": "stream",
     "text": [
      "[0.94854586 0.94843049 0.95515695 0.96188341 0.95515695 0.94170404\n",
      " 0.96412556 0.95067265 0.96629213 0.93483146]\n"
     ]
    }
   ],
   "source": [
    "scores = cross_val_score(pipeline,  # steps to convert raw messages into models\n",
    "                         msg_train,  # training data\n",
    "                         label_train,  # training labels\n",
    "                         cv=10,  # split data randomly into 10 parts: 9 for training, 1 for scoring\n",
    "                         scoring='accuracy',  # which scoring metric?\n",
    "                         n_jobs=-1,  # -1 = use all cores = faster\n",
    "                         )\n",
    "print (scores)"
   ]
  },
  {
   "cell_type": "code",
   "execution_count": 120,
   "metadata": {},
   "outputs": [
    {
     "name": "stdout",
     "output_type": "stream",
     "text": [
      "0.9526799501646206 0.009441850380025778\n"
     ]
    }
   ],
   "source": [
    "print (scores.mean(), scores.std())"
   ]
  },
  {
   "cell_type": "code",
   "execution_count": 121,
   "metadata": {},
   "outputs": [],
   "source": [
    "def plot_learning_curve(estimator, title, X, y, ylim=None, cv=None,\n",
    "                        n_jobs=-1, train_sizes=np.linspace(.1, 1.0, 5)):\n",
    "    \"\"\"\n",
    "    Generate a simple plot of the test and traning learning curve.\n",
    "\n",
    "    Parameters\n",
    "    ----------\n",
    "    estimator : object type that implements the \"fit\" and \"predict\" methods\n",
    "        An object of that type which is cloned for each validation.\n",
    "\n",
    "    title : string\n",
    "        Title for the chart.\n",
    "\n",
    "    X : array-like, shape (n_samples, n_features)\n",
    "        Training vector, where n_samples is the number of samples and\n",
    "        n_features is the number of features.\n",
    "\n",
    "    y : array-like, shape (n_samples) or (n_samples, n_features), optional\n",
    "        Target relative to X for classification or regression;\n",
    "        None for unsupervised learning.\n",
    "\n",
    "    ylim : tuple, shape (ymin, ymax), optional\n",
    "        Defines minimum and maximum yvalues plotted.\n",
    "\n",
    "    cv : integer, cross-validation generator, optional\n",
    "        If an integer is passed, it is the number of folds (defaults to 3).\n",
    "        Specific cross-validation objects can be passed, see\n",
    "        sklearn.cross_validation module for the list of possible objects\n",
    "\n",
    "    n_jobs : integer, optional\n",
    "        Number of jobs to run in parallel (default 1).\n",
    "    \"\"\"\n",
    "    plt.figure()\n",
    "    plt.title(title)\n",
    "    if ylim is not None:\n",
    "        plt.ylim(*ylim)\n",
    "    plt.xlabel(\"Training examples\")\n",
    "    plt.ylabel(\"Score\")\n",
    "    train_sizes, train_scores, test_scores = learning_curve(\n",
    "        estimator, X, y, cv=cv, n_jobs=n_jobs, train_sizes=train_sizes)\n",
    "    train_scores_mean = np.mean(train_scores, axis=1)\n",
    "    train_scores_std = np.std(train_scores, axis=1)\n",
    "    test_scores_mean = np.mean(test_scores, axis=1)\n",
    "    test_scores_std = np.std(test_scores, axis=1)\n",
    "    plt.grid()\n",
    "\n",
    "    plt.fill_between(train_sizes, train_scores_mean - train_scores_std,\n",
    "                     train_scores_mean + train_scores_std, alpha=0.1,\n",
    "                     color=\"r\")\n",
    "    plt.fill_between(train_sizes, test_scores_mean - test_scores_std,\n",
    "                     test_scores_mean + test_scores_std, alpha=0.1, color=\"g\")\n",
    "    plt.plot(train_sizes, train_scores_mean, 'o-', color=\"r\",\n",
    "             label=\"Training score\")\n",
    "    plt.plot(train_sizes, test_scores_mean, 'o-', color=\"g\",\n",
    "             label=\"Cross-validation score\")\n",
    "\n",
    "    plt.legend(loc=\"best\")\n",
    "    return plt"
   ]
  },
  {
   "cell_type": "code",
   "execution_count": 122,
   "metadata": {},
   "outputs": [
    {
     "name": "stdout",
     "output_type": "stream",
     "text": [
      "Wall time: 0 ns\n"
     ]
    },
    {
     "data": {
      "image/png": "[encoded data removed]",
      "text/plain": [
       "<Figure size 432x288 with 1 Axes>"
      ]
     },
     "metadata": {
      "needs_background": "light"
     },
     "output_type": "display_data"
    }
   ],
   "source": [
    "%time \n",
    "plot_learning_curve(pipeline, \"accuracy vs. training set size\", msg_train, label_train, cv=5);"
   ]
  },
  {
   "cell_type": "markdown",
   "metadata": {},
   "source": [
    "We can ask: What is the effect of IDF weighting on accuracy? Does the extra processing cost of lemmatization (vs. just plain words) really help?\n",
    "\n",
    "Let's find out:"
   ]
  },
  {
   "cell_type": "code",
   "execution_count": 123,
   "metadata": {},
   "outputs": [],
   "source": [
    "params = {\n",
    "    'tfidf__use_idf': (True, False),\n",
    "    'bow__analyzer': (split_into_lemmas, split_into_words),\n",
    "}\n",
    "skf=StratifiedKFold(n_splits=5)\n",
    "\n",
    "grid = GridSearchCV(\n",
    "    pipeline,  # pipeline from above\n",
    "    params,  # parameters to tune via cross validation\n",
    "    refit=True,  # fit using all available data at the end, on the best found param combination\n",
    "    n_jobs=-1,  # number of cores to use for parallelization; -1 for \"all cores\"\n",
    "    scoring='accuracy',  # what score are we optimizing?\n",
    "    cv=skf  # what type of cross validation to use\n",
    ")"
   ]
  },
  {
   "cell_type": "code",
   "execution_count": 124,
   "metadata": {},
   "outputs": [
    {
     "name": "stdout",
     "output_type": "stream",
     "text": [
      "Wall time: 16.4 s\n",
      "{'mean_fit_time': array([3.99870253, 3.67748642, 0.17090154, 0.16530523]), 'std_fit_time': array([0.07792025, 0.54141624, 0.00303246, 0.00257531]), 'mean_score_time': array([1.02780743, 0.87869396, 0.02758226, 0.02818213]), 'std_score_time': array([0.01008621, 0.19172676, 0.00080042, 0.00278408]), 'param_bow__analyzer': masked_array(data=[<function split_into_lemmas at 0x0000029C2EC2A6A8>,\n",
      "                   <function split_into_lemmas at 0x0000029C2EC2A6A8>,\n",
      "                   <function split_into_words at 0x0000029C2EBFE0D0>,\n",
      "                   <function split_into_words at 0x0000029C2EBFE0D0>],\n",
      "             mask=[False, False, False, False],\n",
      "       fill_value='?',\n",
      "            dtype=object), 'param_tfidf__use_idf': masked_array(data=[True, False, True, False],\n",
      "             mask=[False, False, False, False],\n",
      "       fill_value='?',\n",
      "            dtype=object), 'params': [{'bow__analyzer': <function split_into_lemmas at 0x0000029C2EC2A6A8>, 'tfidf__use_idf': True}, {'bow__analyzer': <function split_into_lemmas at 0x0000029C2EC2A6A8>, 'tfidf__use_idf': False}, {'bow__analyzer': <function split_into_words at 0x0000029C2EBFE0D0>, 'tfidf__use_idf': True}, {'bow__analyzer': <function split_into_words at 0x0000029C2EBFE0D0>, 'tfidf__use_idf': False}], 'split0_test_score': array([0.94848824, 0.93169093, 0.94400896, 0.92273236]), 'split1_test_score': array([0.94730942, 0.9293722 , 0.93946188, 0.91255605]), 'split2_test_score': array([0.94730942, 0.93273543, 0.93721973, 0.92264574]), 'split3_test_score': array([0.95286195, 0.93265993, 0.93939394, 0.91358025]), 'split4_test_score': array([0.94725028, 0.92592593, 0.9349046 , 0.91806958]), 'mean_test_score': array([0.94864319, 0.93047769, 0.93899978, 0.91791882]), 'std_test_score': array([0.00215885, 0.00257886, 0.00301394, 0.00431613]), 'rank_test_score': array([1, 3, 2, 4])}\n"
     ]
    }
   ],
   "source": [
    "%time nb_detector = grid.fit(msg_train, label_train)\n",
    "print (nb_detector.cv_results_)"
   ]
  },
  {
   "cell_type": "code",
   "execution_count": 125,
   "metadata": {},
   "outputs": [
    {
     "name": "stdout",
     "output_type": "stream",
     "text": [
      "[0.99390914 0.00609086]\n",
      "[0.30959845 0.69040155]\n"
     ]
    }
   ],
   "source": [
    "print (nb_detector.predict_proba([\"Hi mom, how are you?\"])[0])\n",
    "print (nb_detector.predict_proba([\"WINNER! Credit for free!\"])[0])"
   ]
  },
  {
   "cell_type": "code",
   "execution_count": 126,
   "metadata": {},
   "outputs": [
    {
     "name": "stdout",
     "output_type": "stream",
     "text": [
      "ham\n",
      "spam\n"
     ]
    }
   ],
   "source": [
    "print (nb_detector.predict([\"Hi mom, how are you?\"])[0])\n",
    "print (nb_detector.predict([\"WINNER! Credit for free!\"])[0])"
   ]
  },
  {
   "cell_type": "code",
   "execution_count": 127,
   "metadata": {},
   "outputs": [
    {
     "name": "stdout",
     "output_type": "stream",
     "text": [
      "[[969   0]\n",
      " [ 55  91]]\n",
      "              precision    recall  f1-score   support\n",
      "\n",
      "         ham       0.95      1.00      0.97       969\n",
      "        spam       1.00      0.62      0.77       146\n",
      "\n",
      "    accuracy                           0.95      1115\n",
      "   macro avg       0.97      0.81      0.87      1115\n",
      "weighted avg       0.95      0.95      0.95      1115\n",
      "\n"
     ]
    }
   ],
   "source": [
    "predictions = nb_detector.predict(msg_test)\n",
    "print (confusion_matrix(label_test, predictions))\n",
    "print (classification_report(label_test, predictions))"
   ]
  },
  {
   "cell_type": "markdown",
   "metadata": {},
   "source": [
    "\n",
    "Let's try with another classifier: Support Vector Machines (SVM). SVMs are a great starting point when classifying text data, getting state of the art results very quickly and with pleasantly little tuning (although a bit more than Naive Bayes):"
   ]
  },
  {
   "cell_type": "code",
   "execution_count": 128,
   "metadata": {},
   "outputs": [],
   "source": [
    "pipeline_svm = Pipeline([\n",
    "    ('bow', CountVectorizer(analyzer=split_into_lemmas)),\n",
    "    ('tfidf', TfidfTransformer()),\n",
    "    ('classifier', SVC()),  # <== change here\n",
    "])\n",
    "\n",
    "# pipeline parameters to automatically explore and tune\n",
    "param_svm = [\n",
    "  {'classifier__C': [1, 10, 100, 1000], 'classifier__kernel': ['linear']},\n",
    "  {'classifier__C': [1, 10, 100, 1000], 'classifier__gamma': [0.001, 0.0001], 'classifier__kernel': ['rbf']},\n",
    "]\n",
    "\n",
    "skf = StratifiedKFold(n_splits=5)\n",
    "\n",
    "grid_svm = GridSearchCV(\n",
    "    pipeline_svm,  # pipeline from above\n",
    "    param_grid=param_svm,  # parameters to tune via cross validation\n",
    "    refit=True,  # fit using all data, on the best detected classifier\n",
    "    n_jobs=-1,  # number of cores to use for parallelization; -1 for \"all cores\"\n",
    "    scoring='accuracy',  # what score are we optimizing?\n",
    "    cv=skf,  # what type of cross validation to use\n",
    ")"
   ]
  },
  {
   "cell_type": "code",
   "execution_count": 129,
   "metadata": {},
   "outputs": [
    {
     "name": "stdout",
     "output_type": "stream",
     "text": [
      "Wall time: 1min 48s\n",
      "{'mean_fit_time': array([5.13964591, 5.99395461, 5.84963703, 5.34913015, 5.43807397,\n",
      "       5.35454068, 5.74011865, 5.66634302, 6.40851693, 5.93039117,\n",
      "       5.44247088, 5.31054769]), 'std_fit_time': array([0.21065558, 0.49787407, 0.57582326, 0.01541048, 0.03805957,\n",
      "       0.03642385, 0.13066149, 0.05176384, 0.32926452, 0.07539246,\n",
      "       0.19679022, 0.05717786]), 'mean_score_time': array([1.33922963, 1.42617984, 1.239888  , 1.33043447, 1.25427818,\n",
      "       1.29545503, 1.35402141, 1.31444421, 1.40099387, 1.49374151,\n",
      "       1.27326808, 1.22409635]), 'std_score_time': array([0.09982875, 0.16327289, 0.02110275, 0.0391605 , 0.01924605,\n",
      "       0.01306808, 0.05753581, 0.01436387, 0.03594215, 0.12196426,\n",
      "       0.0422556 , 0.04529184]), 'param_classifier__C': masked_array(data=[1, 10, 100, 1000, 1, 1, 10, 10, 100, 100, 1000, 1000],\n",
      "             mask=[False, False, False, False, False, False, False, False,\n",
      "                   False, False, False, False],\n",
      "       fill_value='?',\n",
      "            dtype=object), 'param_classifier__kernel': masked_array(data=['linear', 'linear', 'linear', 'linear', 'rbf', 'rbf',\n",
      "                   'rbf', 'rbf', 'rbf', 'rbf', 'rbf', 'rbf'],\n",
      "             mask=[False, False, False, False, False, False, False, False,\n",
      "                   False, False, False, False],\n",
      "       fill_value='?',\n",
      "            dtype=object), 'param_classifier__gamma': masked_array(data=[--, --, --, --, 0.001, 0.0001, 0.001, 0.0001, 0.001,\n",
      "                   0.0001, 0.001, 0.0001],\n",
      "             mask=[ True,  True,  True,  True, False, False, False, False,\n",
      "                   False, False, False, False],\n",
      "       fill_value='?',\n",
      "            dtype=object), 'params': [{'classifier__C': 1, 'classifier__kernel': 'linear'}, {'classifier__C': 10, 'classifier__kernel': 'linear'}, {'classifier__C': 100, 'classifier__kernel': 'linear'}, {'classifier__C': 1000, 'classifier__kernel': 'linear'}, {'classifier__C': 1, 'classifier__gamma': 0.001, 'classifier__kernel': 'rbf'}, {'classifier__C': 1, 'classifier__gamma': 0.0001, 'classifier__kernel': 'rbf'}, {'classifier__C': 10, 'classifier__gamma': 0.001, 'classifier__kernel': 'rbf'}, {'classifier__C': 10, 'classifier__gamma': 0.0001, 'classifier__kernel': 'rbf'}, {'classifier__C': 100, 'classifier__gamma': 0.001, 'classifier__kernel': 'rbf'}, {'classifier__C': 100, 'classifier__gamma': 0.0001, 'classifier__kernel': 'rbf'}, {'classifier__C': 1000, 'classifier__gamma': 0.001, 'classifier__kernel': 'rbf'}, {'classifier__C': 1000, 'classifier__gamma': 0.0001, 'classifier__kernel': 'rbf'}], 'split0_test_score': array([0.98432251, 0.98320269, 0.98320269, 0.98320269, 0.86450168,\n",
      "       0.86450168, 0.86450168, 0.86450168, 0.96864502, 0.86450168,\n",
      "       0.98544233, 0.96864502]), 'split1_test_score': array([0.98878924, 0.98991031, 0.98991031, 0.98991031, 0.86547085,\n",
      "       0.86547085, 0.86547085, 0.86547085, 0.97533632, 0.86547085,\n",
      "       0.98878924, 0.97533632]), 'split2_test_score': array([0.99103139, 0.99215247, 0.99215247, 0.99215247, 0.86547085,\n",
      "       0.86547085, 0.86547085, 0.86547085, 0.96636771, 0.86547085,\n",
      "       0.99215247, 0.96636771]), 'split3_test_score': array([0.98653199, 0.98316498, 0.98316498, 0.98316498, 0.86531987,\n",
      "       0.86531987, 0.86531987, 0.86531987, 0.97755331, 0.86531987,\n",
      "       0.98316498, 0.97755331]), 'split4_test_score': array([0.98765432, 0.98765432, 0.98765432, 0.98765432, 0.86531987,\n",
      "       0.86531987, 0.86531987, 0.86531987, 0.9708193 , 0.86531987,\n",
      "       0.98989899, 0.97194164]), 'mean_test_score': array([0.9876654 , 0.98721686, 0.98721686, 0.98721686, 0.86521642,\n",
      "       0.86521642, 0.86521642, 0.86521642, 0.97174254, 0.86521642,\n",
      "       0.98788966, 0.97196681]), 'std_test_score': array([0.00223916, 0.00358752, 0.00358752, 0.00358752, 0.00036398,\n",
      "       0.00036398, 0.00036398, 0.00036398, 0.00414747, 0.00036398,\n",
      "       0.00320371, 0.00412174]), 'rank_test_score': array([2, 3, 3, 3, 8, 8, 8, 8, 7, 8, 1, 6])}\n"
     ]
    }
   ],
   "source": [
    "%time svm_detector = grid_svm.fit(msg_train, label_train) # find the best combination from param_svm\n",
    "print (svm_detector.cv_results_)"
   ]
  },
  {
   "cell_type": "code",
   "execution_count": 130,
   "metadata": {},
   "outputs": [
    {
     "name": "stdout",
     "output_type": "stream",
     "text": [
      "ham\n",
      "spam\n"
     ]
    }
   ],
   "source": [
    "print (svm_detector.predict([\"Hi mom, how are you?\"])[0])\n",
    "print (svm_detector.predict([\"WINNER! Credit for free!\"])[0])"
   ]
  },
  {
   "cell_type": "code",
   "execution_count": 131,
   "metadata": {},
   "outputs": [
    {
     "name": "stdout",
     "output_type": "stream",
     "text": [
      "[[965   4]\n",
      " [ 19 127]]\n",
      "              precision    recall  f1-score   support\n",
      "\n",
      "         ham       0.98      1.00      0.99       969\n",
      "        spam       0.97      0.87      0.92       146\n",
      "\n",
      "    accuracy                           0.98      1115\n",
      "   macro avg       0.98      0.93      0.95      1115\n",
      "weighted avg       0.98      0.98      0.98      1115\n",
      "\n"
     ]
    }
   ],
   "source": [
    "print (confusion_matrix(label_test, svm_detector.predict(msg_test)))\n",
    "print (classification_report(label_test, svm_detector.predict(msg_test)))"
   ]
  },
  {
   "cell_type": "markdown",
   "metadata": {},
   "source": [
    "This is then the realistic predictive performance we can expect from our spam detection pipeline, when using SVMs."
   ]
  },
  {
   "cell_type": "code",
   "execution_count": 166,
   "metadata": {},
   "outputs": [
    {
     "data": {
      "text/plain": [
       "['memory',\n",
       " 'randomforestclassifier',\n",
       " 'randomforestclassifier__bootstrap',\n",
       " 'randomforestclassifier__class_weight',\n",
       " 'randomforestclassifier__criterion',\n",
       " 'randomforestclassifier__max_depth',\n",
       " 'randomforestclassifier__max_features',\n",
       " 'randomforestclassifier__max_leaf_nodes',\n",
       " 'randomforestclassifier__min_impurity_decrease',\n",
       " 'randomforestclassifier__min_impurity_split',\n",
       " 'randomforestclassifier__min_samples_leaf',\n",
       " 'randomforestclassifier__min_samples_split',\n",
       " 'randomforestclassifier__min_weight_fraction_leaf',\n",
       " 'randomforestclassifier__n_estimators',\n",
       " 'randomforestclassifier__n_jobs',\n",
       " 'randomforestclassifier__oob_score',\n",
       " 'randomforestclassifier__random_state',\n",
       " 'randomforestclassifier__verbose',\n",
       " 'randomforestclassifier__warm_start',\n",
       " 'steps',\n",
       " 'tfidftransformer',\n",
       " 'tfidftransformer__norm',\n",
       " 'tfidftransformer__smooth_idf',\n",
       " 'tfidftransformer__sublinear_tf',\n",
       " 'tfidftransformer__use_idf',\n",
       " 'verbose']"
      ]
     },
     "execution_count": 166,
     "metadata": {},
     "output_type": "execute_result"
    }
   ],
   "source": [
    "from sklearn.pipeline import Pipeline\n",
    "from sklearn.preprocessing import StandardScaler\n",
    "from sklearn.pipeline import make_pipeline\n",
    "pipeline = make_pipeline(TfidfTransformer(), RandomForestClassifier())\n",
    "sorted(pipeline.get_params().keys())"
   ]
  },
  {
   "cell_type": "code",
   "execution_count": 187,
   "metadata": {},
   "outputs": [],
   "source": [
    "pipeline_rfc = Pipeline([\n",
    "    ('bow', CountVectorizer(analyzer=split_into_lemmas)),\n",
    "    ('tfidf', TfidfTransformer()),\n",
    "    ('classifier', RandomForestClassifier())\n",
    "])\n",
    "\n",
    "params = {\"classifier__max_depth\": [4,5,6,7,8],\n",
    "              \"classifier__max_features\": ['auto', 'sqrt', 'log2'],\n",
    "              \"classifier__n_estimators\" : [200,500],\n",
    "              #\"classifier__min_samples_split\": [1, 3, 10],\n",
    "              #\"classifier__min_samples_leaf\": [1, 3, 10],\n",
    "              # \"bootstrap\": [True, False],\n",
    "              \"classifier__criterion\": [\"gini\", \"entropy\"]}\n",
    "\n",
    "skf=StratifiedKFold(n_splits=5)\n",
    "\n",
    "grid_rfc = GridSearchCV(\n",
    "    pipeline_rfc,# pipeline from above\n",
    "    params,  # parameters to tune via cross validation\n",
    "    refit=True,  # fit using all available data at the end, on the best found param combination\n",
    "    n_jobs=-1,  # number of cores to use for parallelization; -1 for \"all cores\"\n",
    "    scoring='accuracy',  # what score are we optimizing?\n",
    "    cv=skf  # what type of cross validation to use\n",
    ")"
   ]
  },
  {
   "cell_type": "code",
   "execution_count": 188,
   "metadata": {},
   "outputs": [],
   "source": [
    "from sklearn.ensemble import RandomForestClassifier\n",
    "rfc=RandomForestClassifier(random_state=42)"
   ]
  },
  {
   "cell_type": "code",
   "execution_count": 189,
   "metadata": {},
   "outputs": [
    {
     "data": {
      "text/plain": [
       "1968     ham\n",
       "4283     ham\n",
       "2932     ham\n",
       "4169    spam\n",
       "3530    spam\n",
       "Name: label, dtype: object"
      ]
     },
     "execution_count": 189,
     "metadata": {},
     "output_type": "execute_result"
    }
   ],
   "source": [
    "label_train.head()"
   ]
  },
  {
   "cell_type": "code",
   "execution_count": 190,
   "metadata": {},
   "outputs": [
    {
     "name": "stdout",
     "output_type": "stream",
     "text": [
      "Wall time: 9min 16s\n"
     ]
    }
   ],
   "source": [
    "%time rfc_detector = grid_rfc.fit(msg_train, label_train) # find the best combination from param_svm\n"
   ]
  },
  {
   "cell_type": "markdown",
   "metadata": {},
   "source": [
    "CV_rfc = GridSearchCV(estimator=rfc, param_grid=param_grid, cv= 5)\n",
    "\n",
    "CV_rfc.fit(msg_train, label_train)"
   ]
  },
  {
   "cell_type": "code",
   "execution_count": 191,
   "metadata": {},
   "outputs": [
    {
     "name": "stdout",
     "output_type": "stream",
     "text": [
      "{'mean_fit_time': array([7.32939563, 5.34555392, 4.72908216, 5.52042704, 4.6265398 ,\n",
      "       5.29235792, 4.73128014, 5.57139726, 4.71329083, 5.58019176,\n",
      "       4.63793416, 5.3069488 , 4.78065143, 5.73872008, 4.80723648,\n",
      "       5.64975247, 4.63553514, 5.81965413, 5.56561413, 7.54346356,\n",
      "       6.90024753, 8.20053596, 6.39105949, 7.56405268, 6.11868315,\n",
      "       6.72013721, 5.54121585, 6.77890377, 5.85283589, 5.72970567,\n",
      "       5.03830318, 5.79586782, 5.4104897 , 7.50028915, 5.36451645,\n",
      "       7.61942043, 6.15526195, 6.75751543, 6.11908283, 8.11953273,\n",
      "       6.09209843, 5.82565184, 5.10266619, 6.58001685, 5.47825065,\n",
      "       6.60320415, 5.04030232, 6.09929366, 5.55680556, 6.5798295 ,\n",
      "       5.61477189, 6.33615756, 5.28476286, 6.73912535, 5.23259182,\n",
      "       6.20075579, 5.62916427, 7.43624272, 5.63895874, 6.06851168]), 'std_fit_time': array([1.44230315, 0.09895976, 0.0688264 , 0.04161555, 0.02701269,\n",
      "       0.03015933, 0.01337875, 0.00972232, 0.02063721, 0.03529273,\n",
      "       0.02211062, 0.03173027, 0.0311889 , 0.02893319, 0.03402761,\n",
      "       0.03692772, 0.00944781, 0.1100698 , 0.58011269, 0.24904749,\n",
      "       0.31176328, 0.3708282 , 0.37494663, 0.10480505, 0.52404242,\n",
      "       0.06411341, 0.02653003, 0.25416538, 0.29359043, 0.03904176,\n",
      "       0.10706029, 0.04338727, 0.38569275, 0.5450135 , 0.3994457 ,\n",
      "       0.24750309, 0.70824204, 0.25201272, 0.31768342, 0.92990772,\n",
      "       0.80625564, 0.17911208, 0.02204708, 0.1269818 , 0.15697109,\n",
      "       0.17683854, 0.18043693, 0.11469922, 0.22791122, 0.06712296,\n",
      "       0.21426395, 0.22491782, 0.18230866, 0.22577557, 0.28800181,\n",
      "       0.06389406, 0.41403891, 0.08323663, 0.05331103, 0.49720491]), 'mean_score_time': array([1.12576332, 1.21711068, 1.15393653, 1.20930476, 1.1011663 ,\n",
      "       1.19991016, 1.10096669, 1.20190897, 1.10716343, 1.19511318,\n",
      "       1.10616331, 1.19831114, 1.10096679, 1.21869936, 1.09836884,\n",
      "       1.18671784, 1.16213169, 1.29305668, 1.39000473, 1.65724726,\n",
      "       1.69722452, 1.94157286, 1.75134759, 1.72360888, 1.27966418,\n",
      "       1.43897262, 1.24968042, 1.45096555, 1.27246823, 1.26627197,\n",
      "       1.14034438, 1.20850539, 1.51153073, 1.34562621, 1.49074254,\n",
      "       1.67423749, 1.29225664, 1.41498652, 1.42697949, 1.74099898,\n",
      "       1.35402102, 1.23528976, 1.13454785, 1.34822493, 1.20690575,\n",
      "       1.35502114, 1.1879168 , 1.38940163, 1.18333144, 1.32643781,\n",
      "       1.26287422, 1.33703127, 1.33143344, 1.37141185, 1.1171576 ,\n",
      "       1.22400308, 1.3164433 , 1.43208275, 1.38620291, 1.12075534]), 'std_score_time': array([0.01233618, 0.01373046, 0.04719   , 0.0171948 , 0.01461222,\n",
      "       0.01597329, 0.01391451, 0.01460092, 0.00707801, 0.00853683,\n",
      "       0.02436105, 0.01114686, 0.01088579, 0.02497815, 0.02215874,\n",
      "       0.01083047, 0.12126477, 0.0627885 , 0.21882713, 0.09992887,\n",
      "       0.23554987, 0.34402937, 0.26207474, 0.25869189, 0.04152435,\n",
      "       0.09065438, 0.01607312, 0.06751642, 0.1167125 , 0.05426382,\n",
      "       0.04777622, 0.0206902 , 0.42487473, 0.11914446, 0.33545954,\n",
      "       0.27616086, 0.09404772, 0.07315691, 0.14402064, 0.14831656,\n",
      "       0.27892055, 0.02241928, 0.03415273, 0.04473596, 0.10861227,\n",
      "       0.0633811 , 0.06722107, 0.08367125, 0.066987  , 0.15086979,\n",
      "       0.14265032, 0.13648177, 0.10516004, 0.20140237, 0.02603364,\n",
      "       0.0130988 , 0.12823969, 0.06501141, 0.05296777, 0.20193873]), 'param_classifier__criterion': masked_array(data=['gini', 'gini', 'gini', 'gini', 'gini', 'gini', 'gini',\n",
      "                   'gini', 'gini', 'gini', 'gini', 'gini', 'gini', 'gini',\n",
      "                   'gini', 'gini', 'gini', 'gini', 'gini', 'gini', 'gini',\n",
      "                   'gini', 'gini', 'gini', 'gini', 'gini', 'gini', 'gini',\n",
      "                   'gini', 'gini', 'entropy', 'entropy', 'entropy',\n",
      "                   'entropy', 'entropy', 'entropy', 'entropy', 'entropy',\n",
      "                   'entropy', 'entropy', 'entropy', 'entropy', 'entropy',\n",
      "                   'entropy', 'entropy', 'entropy', 'entropy', 'entropy',\n",
      "                   'entropy', 'entropy', 'entropy', 'entropy', 'entropy',\n",
      "                   'entropy', 'entropy', 'entropy', 'entropy', 'entropy',\n",
      "                   'entropy', 'entropy'],\n",
      "             mask=[False, False, False, False, False, False, False, False,\n",
      "                   False, False, False, False, False, False, False, False,\n",
      "                   False, False, False, False, False, False, False, False,\n",
      "                   False, False, False, False, False, False, False, False,\n",
      "                   False, False, False, False, False, False, False, False,\n",
      "                   False, False, False, False, False, False, False, False,\n",
      "                   False, False, False, False, False, False, False, False,\n",
      "                   False, False, False, False],\n",
      "       fill_value='?',\n",
      "            dtype=object), 'param_classifier__max_depth': masked_array(data=[4, 4, 4, 4, 4, 4, 5, 5, 5, 5, 5, 5, 6, 6, 6, 6, 6, 6,\n",
      "                   7, 7, 7, 7, 7, 7, 8, 8, 8, 8, 8, 8, 4, 4, 4, 4, 4, 4,\n",
      "                   5, 5, 5, 5, 5, 5, 6, 6, 6, 6, 6, 6, 7, 7, 7, 7, 7, 7,\n",
      "                   8, 8, 8, 8, 8, 8],\n",
      "             mask=[False, False, False, False, False, False, False, False,\n",
      "                   False, False, False, False, False, False, False, False,\n",
      "                   False, False, False, False, False, False, False, False,\n",
      "                   False, False, False, False, False, False, False, False,\n",
      "                   False, False, False, False, False, False, False, False,\n",
      "                   False, False, False, False, False, False, False, False,\n",
      "                   False, False, False, False, False, False, False, False,\n",
      "                   False, False, False, False],\n",
      "       fill_value='?',\n",
      "            dtype=object), 'param_classifier__max_features': masked_array(data=['auto', 'auto', 'sqrt', 'sqrt', 'log2', 'log2', 'auto',\n",
      "                   'auto', 'sqrt', 'sqrt', 'log2', 'log2', 'auto', 'auto',\n",
      "                   'sqrt', 'sqrt', 'log2', 'log2', 'auto', 'auto', 'sqrt',\n",
      "                   'sqrt', 'log2', 'log2', 'auto', 'auto', 'sqrt', 'sqrt',\n",
      "                   'log2', 'log2', 'auto', 'auto', 'sqrt', 'sqrt', 'log2',\n",
      "                   'log2', 'auto', 'auto', 'sqrt', 'sqrt', 'log2', 'log2',\n",
      "                   'auto', 'auto', 'sqrt', 'sqrt', 'log2', 'log2', 'auto',\n",
      "                   'auto', 'sqrt', 'sqrt', 'log2', 'log2', 'auto', 'auto',\n",
      "                   'sqrt', 'sqrt', 'log2', 'log2'],\n",
      "             mask=[False, False, False, False, False, False, False, False,\n",
      "                   False, False, False, False, False, False, False, False,\n",
      "                   False, False, False, False, False, False, False, False,\n",
      "                   False, False, False, False, False, False, False, False,\n",
      "                   False, False, False, False, False, False, False, False,\n",
      "                   False, False, False, False, False, False, False, False,\n",
      "                   False, False, False, False, False, False, False, False,\n",
      "                   False, False, False, False],\n",
      "       fill_value='?',\n",
      "            dtype=object), 'param_classifier__n_estimators': masked_array(data=[200, 500, 200, 500, 200, 500, 200, 500, 200, 500, 200,\n",
      "                   500, 200, 500, 200, 500, 200, 500, 200, 500, 200, 500,\n",
      "                   200, 500, 200, 500, 200, 500, 200, 500, 200, 500, 200,\n",
      "                   500, 200, 500, 200, 500, 200, 500, 200, 500, 200, 500,\n",
      "                   200, 500, 200, 500, 200, 500, 200, 500, 200, 500, 200,\n",
      "                   500, 200, 500, 200, 500],\n",
      "             mask=[False, False, False, False, False, False, False, False,\n",
      "                   False, False, False, False, False, False, False, False,\n",
      "                   False, False, False, False, False, False, False, False,\n",
      "                   False, False, False, False, False, False, False, False,\n",
      "                   False, False, False, False, False, False, False, False,\n",
      "                   False, False, False, False, False, False, False, False,\n",
      "                   False, False, False, False, False, False, False, False,\n",
      "                   False, False, False, False],\n",
      "       fill_value='?',\n",
      "            dtype=object), 'params': [{'classifier__criterion': 'gini', 'classifier__max_depth': 4, 'classifier__max_features': 'auto', 'classifier__n_estimators': 200}, {'classifier__criterion': 'gini', 'classifier__max_depth': 4, 'classifier__max_features': 'auto', 'classifier__n_estimators': 500}, {'classifier__criterion': 'gini', 'classifier__max_depth': 4, 'classifier__max_features': 'sqrt', 'classifier__n_estimators': 200}, {'classifier__criterion': 'gini', 'classifier__max_depth': 4, 'classifier__max_features': 'sqrt', 'classifier__n_estimators': 500}, {'classifier__criterion': 'gini', 'classifier__max_depth': 4, 'classifier__max_features': 'log2', 'classifier__n_estimators': 200}, {'classifier__criterion': 'gini', 'classifier__max_depth': 4, 'classifier__max_features': 'log2', 'classifier__n_estimators': 500}, {'classifier__criterion': 'gini', 'classifier__max_depth': 5, 'classifier__max_features': 'auto', 'classifier__n_estimators': 200}, {'classifier__criterion': 'gini', 'classifier__max_depth': 5, 'classifier__max_features': 'auto', 'classifier__n_estimators': 500}, {'classifier__criterion': 'gini', 'classifier__max_depth': 5, 'classifier__max_features': 'sqrt', 'classifier__n_estimators': 200}, {'classifier__criterion': 'gini', 'classifier__max_depth': 5, 'classifier__max_features': 'sqrt', 'classifier__n_estimators': 500}, {'classifier__criterion': 'gini', 'classifier__max_depth': 5, 'classifier__max_features': 'log2', 'classifier__n_estimators': 200}, {'classifier__criterion': 'gini', 'classifier__max_depth': 5, 'classifier__max_features': 'log2', 'classifier__n_estimators': 500}, {'classifier__criterion': 'gini', 'classifier__max_depth': 6, 'classifier__max_features': 'auto', 'classifier__n_estimators': 200}, {'classifier__criterion': 'gini', 'classifier__max_depth': 6, 'classifier__max_features': 'auto', 'classifier__n_estimators': 500}, {'classifier__criterion': 'gini', 'classifier__max_depth': 6, 'classifier__max_features': 'sqrt', 'classifier__n_estimators': 200}, {'classifier__criterion': 'gini', 'classifier__max_depth': 6, 'classifier__max_features': 'sqrt', 'classifier__n_estimators': 500}, {'classifier__criterion': 'gini', 'classifier__max_depth': 6, 'classifier__max_features': 'log2', 'classifier__n_estimators': 200}, {'classifier__criterion': 'gini', 'classifier__max_depth': 6, 'classifier__max_features': 'log2', 'classifier__n_estimators': 500}, {'classifier__criterion': 'gini', 'classifier__max_depth': 7, 'classifier__max_features': 'auto', 'classifier__n_estimators': 200}, {'classifier__criterion': 'gini', 'classifier__max_depth': 7, 'classifier__max_features': 'auto', 'classifier__n_estimators': 500}, {'classifier__criterion': 'gini', 'classifier__max_depth': 7, 'classifier__max_features': 'sqrt', 'classifier__n_estimators': 200}, {'classifier__criterion': 'gini', 'classifier__max_depth': 7, 'classifier__max_features': 'sqrt', 'classifier__n_estimators': 500}, {'classifier__criterion': 'gini', 'classifier__max_depth': 7, 'classifier__max_features': 'log2', 'classifier__n_estimators': 200}, {'classifier__criterion': 'gini', 'classifier__max_depth': 7, 'classifier__max_features': 'log2', 'classifier__n_estimators': 500}, {'classifier__criterion': 'gini', 'classifier__max_depth': 8, 'classifier__max_features': 'auto', 'classifier__n_estimators': 200}, {'classifier__criterion': 'gini', 'classifier__max_depth': 8, 'classifier__max_features': 'auto', 'classifier__n_estimators': 500}, {'classifier__criterion': 'gini', 'classifier__max_depth': 8, 'classifier__max_features': 'sqrt', 'classifier__n_estimators': 200}, {'classifier__criterion': 'gini', 'classifier__max_depth': 8, 'classifier__max_features': 'sqrt', 'classifier__n_estimators': 500}, {'classifier__criterion': 'gini', 'classifier__max_depth': 8, 'classifier__max_features': 'log2', 'classifier__n_estimators': 200}, {'classifier__criterion': 'gini', 'classifier__max_depth': 8, 'classifier__max_features': 'log2', 'classifier__n_estimators': 500}, {'classifier__criterion': 'entropy', 'classifier__max_depth': 4, 'classifier__max_features': 'auto', 'classifier__n_estimators': 200}, {'classifier__criterion': 'entropy', 'classifier__max_depth': 4, 'classifier__max_features': 'auto', 'classifier__n_estimators': 500}, {'classifier__criterion': 'entropy', 'classifier__max_depth': 4, 'classifier__max_features': 'sqrt', 'classifier__n_estimators': 200}, {'classifier__criterion': 'entropy', 'classifier__max_depth': 4, 'classifier__max_features': 'sqrt', 'classifier__n_estimators': 500}, {'classifier__criterion': 'entropy', 'classifier__max_depth': 4, 'classifier__max_features': 'log2', 'classifier__n_estimators': 200}, {'classifier__criterion': 'entropy', 'classifier__max_depth': 4, 'classifier__max_features': 'log2', 'classifier__n_estimators': 500}, {'classifier__criterion': 'entropy', 'classifier__max_depth': 5, 'classifier__max_features': 'auto', 'classifier__n_estimators': 200}, {'classifier__criterion': 'entropy', 'classifier__max_depth': 5, 'classifier__max_features': 'auto', 'classifier__n_estimators': 500}, {'classifier__criterion': 'entropy', 'classifier__max_depth': 5, 'classifier__max_features': 'sqrt', 'classifier__n_estimators': 200}, {'classifier__criterion': 'entropy', 'classifier__max_depth': 5, 'classifier__max_features': 'sqrt', 'classifier__n_estimators': 500}, {'classifier__criterion': 'entropy', 'classifier__max_depth': 5, 'classifier__max_features': 'log2', 'classifier__n_estimators': 200}, {'classifier__criterion': 'entropy', 'classifier__max_depth': 5, 'classifier__max_features': 'log2', 'classifier__n_estimators': 500}, {'classifier__criterion': 'entropy', 'classifier__max_depth': 6, 'classifier__max_features': 'auto', 'classifier__n_estimators': 200}, {'classifier__criterion': 'entropy', 'classifier__max_depth': 6, 'classifier__max_features': 'auto', 'classifier__n_estimators': 500}, {'classifier__criterion': 'entropy', 'classifier__max_depth': 6, 'classifier__max_features': 'sqrt', 'classifier__n_estimators': 200}, {'classifier__criterion': 'entropy', 'classifier__max_depth': 6, 'classifier__max_features': 'sqrt', 'classifier__n_estimators': 500}, {'classifier__criterion': 'entropy', 'classifier__max_depth': 6, 'classifier__max_features': 'log2', 'classifier__n_estimators': 200}, {'classifier__criterion': 'entropy', 'classifier__max_depth': 6, 'classifier__max_features': 'log2', 'classifier__n_estimators': 500}, {'classifier__criterion': 'entropy', 'classifier__max_depth': 7, 'classifier__max_features': 'auto', 'classifier__n_estimators': 200}, {'classifier__criterion': 'entropy', 'classifier__max_depth': 7, 'classifier__max_features': 'auto', 'classifier__n_estimators': 500}, {'classifier__criterion': 'entropy', 'classifier__max_depth': 7, 'classifier__max_features': 'sqrt', 'classifier__n_estimators': 200}, {'classifier__criterion': 'entropy', 'classifier__max_depth': 7, 'classifier__max_features': 'sqrt', 'classifier__n_estimators': 500}, {'classifier__criterion': 'entropy', 'classifier__max_depth': 7, 'classifier__max_features': 'log2', 'classifier__n_estimators': 200}, {'classifier__criterion': 'entropy', 'classifier__max_depth': 7, 'classifier__max_features': 'log2', 'classifier__n_estimators': 500}, {'classifier__criterion': 'entropy', 'classifier__max_depth': 8, 'classifier__max_features': 'auto', 'classifier__n_estimators': 200}, {'classifier__criterion': 'entropy', 'classifier__max_depth': 8, 'classifier__max_features': 'auto', 'classifier__n_estimators': 500}, {'classifier__criterion': 'entropy', 'classifier__max_depth': 8, 'classifier__max_features': 'sqrt', 'classifier__n_estimators': 200}, {'classifier__criterion': 'entropy', 'classifier__max_depth': 8, 'classifier__max_features': 'sqrt', 'classifier__n_estimators': 500}, {'classifier__criterion': 'entropy', 'classifier__max_depth': 8, 'classifier__max_features': 'log2', 'classifier__n_estimators': 200}, {'classifier__criterion': 'entropy', 'classifier__max_depth': 8, 'classifier__max_features': 'log2', 'classifier__n_estimators': 500}], 'split0_test_score': array([0.86450168, 0.86450168, 0.86450168, 0.86450168, 0.86450168,\n",
      "       0.86450168, 0.86674132, 0.86450168, 0.86674132, 0.86674132,\n",
      "       0.86450168, 0.86450168, 0.8712206 , 0.8712206 , 0.8712206 ,\n",
      "       0.87010078, 0.86450168, 0.86450168, 0.87793953, 0.87569989,\n",
      "       0.87905935, 0.87681971, 0.86450168, 0.86450168, 0.88353863,\n",
      "       0.88577828, 0.88465845, 0.8868981 , 0.86450168, 0.86450168,\n",
      "       0.86450168, 0.86450168, 0.86450168, 0.86450168, 0.86450168,\n",
      "       0.86450168, 0.87010078, 0.86450168, 0.8656215 , 0.86450168,\n",
      "       0.86450168, 0.86450168, 0.86898096, 0.86786114, 0.86898096,\n",
      "       0.86898096, 0.86450168, 0.86450168, 0.87793953, 0.87234043,\n",
      "       0.87458007, 0.87569989, 0.86450168, 0.86450168, 0.87458007,\n",
      "       0.88353863, 0.88241881, 0.88129899, 0.86450168, 0.86450168]), 'split1_test_score': array([0.86547085, 0.86659193, 0.86659193, 0.86547085, 0.86547085,\n",
      "       0.86547085, 0.86547085, 0.867713  , 0.86883408, 0.86659193,\n",
      "       0.86547085, 0.86547085, 0.86883408, 0.86883408, 0.87331839,\n",
      "       0.86883408, 0.86547085, 0.86547085, 0.87780269, 0.87892377,\n",
      "       0.87892377, 0.87892377, 0.86547085, 0.86547085, 0.88565022,\n",
      "       0.8867713 , 0.88565022, 0.88340807, 0.86547085, 0.86547085,\n",
      "       0.86547085, 0.86547085, 0.86547085, 0.86547085, 0.86547085,\n",
      "       0.86547085, 0.867713  , 0.867713  , 0.86547085, 0.867713  ,\n",
      "       0.86547085, 0.86547085, 0.87107623, 0.86883408, 0.867713  ,\n",
      "       0.86883408, 0.86547085, 0.86547085, 0.87331839, 0.87443946,\n",
      "       0.87556054, 0.87780269, 0.86547085, 0.86547085, 0.88452915,\n",
      "       0.88340807, 0.88452915, 0.88565022, 0.86547085, 0.86547085]), 'split2_test_score': array([0.86547085, 0.86547085, 0.86547085, 0.86547085, 0.86547085,\n",
      "       0.86547085, 0.86659193, 0.86547085, 0.86883408, 0.86547085,\n",
      "       0.86547085, 0.86547085, 0.87219731, 0.87780269, 0.87443946,\n",
      "       0.87556054, 0.86547085, 0.86547085, 0.88789238, 0.88901345,\n",
      "       0.89125561, 0.8867713 , 0.86547085, 0.86547085, 0.89461883,\n",
      "       0.89798206, 0.89349776, 0.89686099, 0.86547085, 0.86547085,\n",
      "       0.86547085, 0.86547085, 0.86547085, 0.86547085, 0.86547085,\n",
      "       0.86547085, 0.867713  , 0.86547085, 0.86547085, 0.86659193,\n",
      "       0.86547085, 0.86547085, 0.87219731, 0.87668161, 0.87219731,\n",
      "       0.87219731, 0.86547085, 0.86547085, 0.88901345, 0.8867713 ,\n",
      "       0.88116592, 0.8867713 , 0.86547085, 0.86547085, 0.89573991,\n",
      "       0.89461883, 0.89237668, 0.89686099, 0.86547085, 0.86547085]), 'split3_test_score': array([0.86531987, 0.86531987, 0.86531987, 0.86531987, 0.86531987,\n",
      "       0.86531987, 0.86868687, 0.8664422 , 0.86531987, 0.86531987,\n",
      "       0.86531987, 0.86531987, 0.86868687, 0.87317621, 0.87654321,\n",
      "       0.87205387, 0.86531987, 0.86531987, 0.88552189, 0.88215488,\n",
      "       0.88327722, 0.87878788, 0.86531987, 0.86531987, 0.88439955,\n",
      "       0.88439955, 0.88776655, 0.89001122, 0.86531987, 0.86531987,\n",
      "       0.86531987, 0.86531987, 0.86531987, 0.86531987, 0.86531987,\n",
      "       0.86531987, 0.8664422 , 0.86531987, 0.86531987, 0.8664422 ,\n",
      "       0.86531987, 0.86531987, 0.87205387, 0.8698092 , 0.87093154,\n",
      "       0.86868687, 0.86531987, 0.86531987, 0.88103255, 0.88103255,\n",
      "       0.87542088, 0.87991021, 0.86531987, 0.86531987, 0.88664422,\n",
      "       0.88888889, 0.88552189, 0.88664422, 0.86531987, 0.86531987]), 'split4_test_score': array([0.86531987, 0.86531987, 0.86531987, 0.86531987, 0.86531987,\n",
      "       0.86531987, 0.86868687, 0.8664422 , 0.8664422 , 0.8664422 ,\n",
      "       0.86531987, 0.86531987, 0.8698092 , 0.86868687, 0.86868687,\n",
      "       0.86756453, 0.86531987, 0.86531987, 0.87878788, 0.87317621,\n",
      "       0.87429854, 0.87654321, 0.86531987, 0.86531987, 0.87654321,\n",
      "       0.88215488, 0.88327722, 0.88327722, 0.86531987, 0.86531987,\n",
      "       0.86531987, 0.86531987, 0.86531987, 0.86531987, 0.86531987,\n",
      "       0.86531987, 0.8664422 , 0.86531987, 0.86868687, 0.8664422 ,\n",
      "       0.86531987, 0.86531987, 0.87093154, 0.86868687, 0.8698092 ,\n",
      "       0.8698092 , 0.86531987, 0.86531987, 0.87205387, 0.87205387,\n",
      "       0.87205387, 0.87205387, 0.86531987, 0.86531987, 0.88103255,\n",
      "       0.88103255, 0.88776655, 0.87991021, 0.86531987, 0.86531987]), 'mean_test_score': array([0.86521642, 0.86544068, 0.86544068, 0.86521642, 0.86521642,\n",
      "       0.86521642, 0.86723481, 0.86611348, 0.86723481, 0.86611348,\n",
      "       0.86521642, 0.86521642, 0.87015026, 0.87194438, 0.87284144,\n",
      "       0.87082305, 0.86521642, 0.86521642, 0.8815878 , 0.87979368,\n",
      "       0.88136353, 0.87956941, 0.86521642, 0.86521642, 0.88495178,\n",
      "       0.8874187 , 0.88697017, 0.8880915 , 0.86521642, 0.86521642,\n",
      "       0.86521642, 0.86521642, 0.86521642, 0.86521642, 0.86521642,\n",
      "       0.86521642, 0.86768334, 0.86566495, 0.86611348, 0.86633774,\n",
      "       0.86521642, 0.86521642, 0.87104732, 0.87037452, 0.86992599,\n",
      "       0.86970173, 0.86521642, 0.86521642, 0.87867235, 0.87732675,\n",
      "       0.8757569 , 0.87844808, 0.86521642, 0.86521642, 0.88450325,\n",
      "       0.88629738, 0.88652164, 0.88607311, 0.86521642, 0.86521642]), 'std_test_score': array([0.00036398, 0.00066913, 0.00066913, 0.00036398, 0.00036398,\n",
      "       0.00036398, 0.00126354, 0.00107605, 0.00138937, 0.00059564,\n",
      "       0.00036398, 0.00036398, 0.0013658 , 0.00336589, 0.00269623,\n",
      "       0.00279464, 0.00036398, 0.00036398, 0.00425935, 0.00551151,\n",
      "       0.00570392, 0.00373167, 0.00036398, 0.00036398, 0.00577764,\n",
      "       0.00550479, 0.00357693, 0.00504233, 0.00036398, 0.00036398,\n",
      "       0.00036398, 0.00036398, 0.00036398, 0.00036398, 0.00036398,\n",
      "       0.00036398, 0.00133654, 0.00107946, 0.00128951, 0.00103478,\n",
      "       0.00036398, 0.00036398, 0.00115107, 0.0032141 , 0.00154768,\n",
      "       0.00130714, 0.00036398, 0.00036398, 0.00609101, 0.00572632,\n",
      "       0.00298337, 0.0049042 , 0.00036398, 0.00036398, 0.00694994,\n",
      "       0.00489155, 0.00339597, 0.00596119, 0.00036398, 0.00036398]), 'rank_test_score': array([35, 33, 33, 35, 35, 35, 26, 29, 26, 29, 35, 35, 22, 18, 17, 20, 35,\n",
      "       35,  9, 11, 10, 12, 35, 35,  7,  2,  3,  1, 35, 35, 35, 35, 35, 35,\n",
      "       35, 35, 25, 32, 29, 28, 35, 35, 19, 21, 23, 24, 35, 35, 13, 15, 16,\n",
      "       14, 35, 35,  8,  5,  4,  6, 35, 35])}\n"
     ]
    }
   ],
   "source": [
    "print (rfc_detector.cv_results_)"
   ]
  },
  {
   "cell_type": "code",
   "execution_count": 192,
   "metadata": {},
   "outputs": [
    {
     "data": {
      "text/plain": [
       "{'classifier__criterion': 'gini',\n",
       " 'classifier__max_depth': 8,\n",
       " 'classifier__max_features': 'sqrt',\n",
       " 'classifier__n_estimators': 500}"
      ]
     },
     "execution_count": 192,
     "metadata": {},
     "output_type": "execute_result"
    }
   ],
   "source": [
    "grid_rfc.best_params_"
   ]
  },
  {
   "cell_type": "code",
   "execution_count": 195,
   "metadata": {},
   "outputs": [
    {
     "name": "stdout",
     "output_type": "stream",
     "text": [
      "[[969   0]\n",
      " [131  15]]\n",
      "              precision    recall  f1-score   support\n",
      "\n",
      "         ham       0.88      1.00      0.94       969\n",
      "        spam       1.00      0.10      0.19       146\n",
      "\n",
      "    accuracy                           0.88      1115\n",
      "   macro avg       0.94      0.55      0.56      1115\n",
      "weighted avg       0.90      0.88      0.84      1115\n",
      "\n"
     ]
    }
   ],
   "source": [
    "print (confusion_matrix(label_test, rfc_detector.predict(msg_test)))\n",
    "print (classification_report(label_test, rfc_detector.predict(msg_test)))"
   ]
  },
  {
   "cell_type": "code",
   "execution_count": 196,
   "metadata": {},
   "outputs": [
    {
     "name": "stdout",
     "output_type": "stream",
     "text": [
      "ham\n",
      "ham\n"
     ]
    }
   ],
   "source": [
    "print (rfc_detector.predict([\"Hi mom, how are you?\"])[0])\n",
    "print (rfc_detector.predict([\"WINNER! Credit for free!\"])[0])"
   ]
  }
 ],
 "metadata": {
  "kernelspec": {
   "display_name": "Python 3",
   "language": "python",
   "name": "python3"
  },
  "language_info": {
   "codemirror_mode": {
    "name": "ipython",
    "version": 3
   },
   "file_extension": ".py",
   "mimetype": "text/x-python",
   "name": "python",
   "nbconvert_exporter": "python",
   "pygments_lexer": "ipython3",
   "version": "3.6.8"
  }
 },
 "nbformat": 4,
 "nbformat_minor": 4
}
